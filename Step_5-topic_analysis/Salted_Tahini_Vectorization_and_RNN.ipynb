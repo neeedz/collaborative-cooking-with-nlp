{
  "nbformat": 4,
  "nbformat_minor": 0,
  "metadata": {
    "colab": {
      "name": "Salted Tahini Vectorization and RNN",
      "provenance": [],
      "collapsed_sections": [],
      "toc_visible": true,
      "include_colab_link": true
    },
    "kernelspec": {
      "name": "python3",
      "display_name": "Python 3"
    },
    "language_info": {
      "name": "python"
    }
  },
  "cells": [
    {
      "cell_type": "markdown",
      "metadata": {
        "id": "view-in-github",
        "colab_type": "text"
      },
      "source": [
        "<a href=\"https://colab.research.google.com/github/neeedz/collaborative-cooking-with-nlp/blob/main/Salted_Tahini_Vectorization_and_RNN.ipynb\" target=\"_parent\"><img src=\"https://colab.research.google.com/assets/colab-badge.svg\" alt=\"Open In Colab\"/></a>"
      ]
    },
    {
      "cell_type": "markdown",
      "metadata": {
        "id": "_9OOEmeITpgs"
      },
      "source": [
        "# Salted Tahini Vectorization and RNN\n",
        "This notebook was written by Shirley Li with assistance from Enkhzaya Enkhtaivan."
      ]
    },
    {
      "cell_type": "markdown",
      "metadata": {
        "id": "m1rxcMymMb9w"
      },
      "source": [
        "In this notebook, I created a word2vec embedding for the Salted Tahini comments, and then built an RNN to predict the sentiment of each comment.\n"
      ]
    },
    {
      "cell_type": "code",
      "metadata": {
        "id": "s0YbAYIcxQz-",
        "colab": {
          "base_uri": "https://localhost:8080/"
        },
        "outputId": "7f903899-4b0c-4970-f0cb-2461da53f7fe"
      },
      "source": [
        "## first let's import and install our packages\n",
        "\n",
        "import numpy as np\n",
        "import pandas as pd\n",
        "\n",
        "from gensim.test.utils import datapath\n",
        "from gensim import utils"
      ],
      "execution_count": 4,
      "outputs": [
        {
          "output_type": "stream",
          "text": [
            "/usr/local/lib/python3.7/dist-packages/gensim/similarities/__init__.py:15: UserWarning: The gensim.similarities.levenshtein submodule is disabled, because the optional Levenshtein package <https://pypi.org/project/python-Levenshtein/> is unavailable. Install Levenhstein (e.g. `pip install python-Levenshtein`) to suppress this warning.\n",
            "  warnings.warn(msg)\n"
          ],
          "name": "stderr"
        }
      ]
    },
    {
      "cell_type": "code",
      "metadata": {
        "id": "baRFCft5sO3l",
        "colab": {
          "base_uri": "https://localhost:8080/"
        },
        "outputId": "c01f936b-12e4-47de-ec45-327e1306ad15"
      },
      "source": [
        "## for some reason unless we upgrade gensim it defaults\n",
        "## at least in Google Colab to an earlier version\n",
        "## which won't run our code later\n",
        "\n",
        "pip install --upgrade gensim"
      ],
      "execution_count": 3,
      "outputs": [
        {
          "output_type": "stream",
          "text": [
            "Collecting gensim\n",
            "\u001b[?25l  Downloading https://files.pythonhosted.org/packages/44/52/f1417772965652d4ca6f901515debcd9d6c5430969e8c02ee7737e6de61c/gensim-4.0.1-cp37-cp37m-manylinux1_x86_64.whl (23.9MB)\n",
            "\u001b[K     |████████████████████████████████| 23.9MB 51.7MB/s \n",
            "\u001b[?25hRequirement already satisfied, skipping upgrade: scipy>=0.18.1 in /usr/local/lib/python3.7/dist-packages (from gensim) (1.4.1)\n",
            "Requirement already satisfied, skipping upgrade: numpy>=1.11.3 in /usr/local/lib/python3.7/dist-packages (from gensim) (1.19.5)\n",
            "Requirement already satisfied, skipping upgrade: smart-open>=1.8.1 in /usr/local/lib/python3.7/dist-packages (from gensim) (5.0.0)\n",
            "Installing collected packages: gensim\n",
            "  Found existing installation: gensim 3.6.0\n",
            "    Uninstalling gensim-3.6.0:\n",
            "      Successfully uninstalled gensim-3.6.0\n",
            "Successfully installed gensim-4.0.1\n"
          ],
          "name": "stdout"
        }
      ]
    },
    {
      "cell_type": "markdown",
      "metadata": {
        "id": "lTkQRFa-WPUM"
      },
      "source": [
        "## First we created our Word2Vec embedding."
      ]
    },
    {
      "cell_type": "code",
      "metadata": {
        "id": "0Q9LaUlu08IS"
      },
      "source": [
        "tahini = '''\n",
        "\"Yum.  These took much longer than 16 minutes to cook - but Im also in Denver (5000+ ft. altitude) and used a gluten free flour blend.  Either or both of those could have affected the outcome.\n",
        "If you follow the recipe as written the tahini (sesame) flavour in the cookies is VERY subtle. If I didnt know it was there, I wouldnt have tasted it- I got the same feedback from the people I shared the cookies with. That being said they are still absolutely delicious cookies...\n",
        "I have made these cookies 5 times. My advice is do everything the recipe says. Donâ€™t tell your step-father you used tahini and he will tell the world they are the best cookies he ever had. Fantastic. I wish someone had told me earlier in life about refrigerating dough. For me it made the whole experience more relaxing. Make the dough. Put in fridge. Clean up. Make cookies next day. Eat them and donâ€™t have any dishes.\n",
        "I liked this- the tahini is slightly more subtle than a PB cookie. Combined dark chocolate and milk chocolate chips, and used a sprinkle of kosher salt- did a little test, sprinkled when raw, and just out of of the oven. No difference. Also added a tsp of cornstarch. Doubled it and froze the balls of dough- baked for more like 11-13  minutes.\n",
        "Used Shaila Ms tweaks. Baked first tray straight after mixing-- delicious but very crispy cookies resulted. They were a little less crispy when baked after refrigeration. The best though is to bake a frozen dough ball, then the cookie retains a lot more height, and softness inside. Very tasty.\n",
        "Handled these like refrigerator cookies.  Formed into long roll 1-1/4 inch in diameter.  Wrapped in wax paper. After refrigerating overnight, popped into freezer for a few minutes.  Cut roll in wax paper into thirds, took out one at a time.  Cut into 1/4 inch slices, after each cut, turn roll one quarter of a circle or 90 degrees to retain cylindrical shape.  On pan, flattened dough if necessary to make crisp cookie.  Baked 15 minutes until brown at edges.  Regret I forgot salt, great anyway.\n",
        "I made these exactly as the recipe stated, but they turned out really crisp and dry rather than chewy. Not sure if I did something wrong or if thats the recipe!\n",
        "I made them for Passover and used matzo cake meal. I removed 1 TBS. from the cup to compensate.  When I baked them I used convection bake at 325 degrees but found 20 minutes was my sweet spot. I dont like soft cookies and the extra time was perfect. I baked the 1st batch at 325 degrees but they were not done to my taste, the convection was just enough extra.\n",
        "I accidentally made these with 4T of butter instead of 4oz (where 4T is only 2oz) and they turned out wonderfully!! Surprisingly squishier than usual, and the tahini flavor was strong. I might have to cut the butter in half again the next time I make them.\n",
        "I have yet to meet someone that doesnâ€™t love this cookie.\n",
        "We make them as the recipe states using TJs chocolate chunks.\n",
        "\n",
        "We use a Tb or 2 Tb scoop (I like smaller cookies, daughter likes bigger cookies)\n",
        "\n",
        "We make these a few times a year.\n",
        "Try with half brown sugar\n",
        "I forgot to add the eggs until after I had mixed in the flour and chips so I incorporated them with my hands.   Hilled dough just two hours. Cookies were delicious despite my mistakes which tells me the recipe is solid and forgiving. My cookies has a slightly sandy texture which was quite nice.\n",
        "I wasnt impressed, but I might have used too good chocolate chips (Guittard 63%). I followed the recipe to the letter because thats how I like to do it the first time around. I found myself wanting more of the tahini flavor to come through. As is, these were just so-so chocolate chip cookies to me. If I do make again, I will use semisweet chips, and increase the tahini. My expectations were high, too, because I am a big fan of the Peanut Butter-Miso cookies. Not even in the same league, imo.\n",
        "I just made this recipe to the t and they came out sublime. The tahini wasnt super strong, but the cookies are soft and delicious and the salt is a fantastic finish. Wouldnt change a thing.\n",
        "This recipe is fantastic on its own, but also does well with pistachio butter (in lieu of tahini) and a dash of cardamom for the pantry pastry chef looking to please her sweet tooth on whim.\n",
        "I cant say these were the best choc chip cookies Ive ever had, but still a solid cookie. I would try to up the tahini flavor if possible, or maybe split the sugar half-half between white and brown sugar. They were a bit lacking in depth of flavor. But still pretty tasty!\n",
        "We love these cookies and have baked them many times.  Most recently we used King Arthur Paleo flour and stevia chocolate chips to very good effect.  The flour didnâ€™t seem to make any difference at all, and independent tasters agreed that the stevia chocolate chips paired quite well with the dough to reduce the sugar content.\n",
        "For me, this took much longer to bake than it says and the cookies REALLY expand.\n",
        "Used a cheap electric hand mixer for these, and the dough ended up very light, fluffy, and airy! Let dough sit in freezer for 1hr before baking. \n",
        "Made vegan with plant based butter and 2 flax eggs (1TBSP flax meal + 3 TBSP water x 2). Used a commenters suggestion of 1/2 cup white sugar and 1/2 cup light brown sugar. \n",
        "Cookies ended up slightly flat (as in photo/video), but chewy and very light and crispy :)\n",
        "I always reduce the sugar to 1/2 cup - delicious!\n",
        "A perfectly fine cookie, but I expected more of the tahini to come through. Listen to other posters who said they upped it.\n",
        "Add more tahini and less chocolate chips\n",
        "Try some time with some rye flour\n",
        "modifications:\n",
        "-used just 1/2 cup demerara sugar plus about 2 Tbsp granulated\n",
        "-1 large egg\n",
        "-used table salt by accident so omitted top sprinkle.\n",
        "\n",
        "Cookies were good. Sweet enough but they did not spread.  Taste was a bit too buttery. Sort of sandy texture (from demerara?) but tahini flavor was subdued. Was not blown away but I did mess with the formula. Will probably play around some more with this.\n",
        "Made exactly as recipe instructs and they are wonderful. My coworkers request this recipe specifically when Iâ€™m in a baking mood. Delicious!\n",
        "I have made these cookies twice, following slight tweaks mentioned by Shaila M (more tahini, more chocolate, smaller cookies, 2 eggs ...) and each time when someone had them, they said it was the best cookie they have ever had. Unprompted!\n",
        "The tahini really makes the cookies ver good. I used sesame tahini and used bittersweet chocolate chips. The cookies have a great flavor and taste very rich. I like how the recipe includes sea salt on top of the cookies. I just made them and they taste unbelievably delicious!\n",
        "I made these with matzoh meal (regular, not cake, as I didnâ€™t initially realize there is a difference) because I had just the right amount on hand and I wanted to use it up. I also used 2 whole eggs because I didnâ€™t want to deal with the leftover white. And I chopped up some bars of valrhona chocolate. Definitely let them chill overnight as the dough was very soft. They are fantastic!\n",
        "Froze the dough for 1 hour before baking, skipped the added Maldon salt, and layered with vanilla ice cream for a decadent dessert. Turned out perfectly!\n",
        "Has anyone had any success making this with a food processor instead of a stand mixer? I made the dough with a processor tonight and it didnt really get light and fluffyâ€ felt like more of a nougat. And the dough was hot from being processed, so the chips melted a bit when I put them in. Wondering if anyone has advice, or are food processors just not as suitable for cookie dough as their manuals claim them to be?\n",
        "This recipe is incredible! I made these cookies for the holidays and gave them as gifts. I also kept a bunch for myself, of course. I substituted Cup 4 Cup gluten free flour and the results were chewy and perfect.\n",
        "Made the dough last night and baked a batch this morning. Only change to the recipe was that I used slightly less chocolate chunks due to the size of the package had only 200g. Result was delicious!\n",
        "\n",
        "I like that Iâ€™ve still got cookie dough in the fridge to bake a few more fresh cookies at a later date. Used a 2â€ scoop, and was able to fit 6 on the cookie sheet. The cookies expanded to 4 - 5 inches diameter once baked.\n",
        "\n",
        "Next time will try with 2 whole eggs (or just 1) as others have suggested.\n",
        "See Brendas notes in Pages document\n",
        "Excellent cookie\n",
        "Make exactly as recipe.....made 4 dozen using cookie scoop, which is a nice manageable size for eating.\n",
        "Made this with half brown sugar and half granulated sugar. Browned the butter. Also added walnuts and halved the amount of chocolate chips because I was out. It came out delicious!\n",
        "FREEZE DOUGH BALLS ~ 5 min prebake to prevent spread. For double batch (got ~ 80 cookies) used 4 whole eggs, 1.25 cup tahini, scant 2 t kosher salt & most of 2 bags choc chips (1 bag Tollhouse semisweet chunks, 1 bag Tollhouse dark chips) - saving a bit of each type to top the cookie dough balls before baking. Topped w Maldon right out of oven. Next time up tahini even more (1.5 cups for double batch?) & use a tad less choc chips (1.5 bags total for double batch?).\n",
        "Wow, donâ€™t change a thing except more chocolate chips.  These are absolutely amazing cookies.\n",
        "These cookies are always a huge hit EVERY time I make them, which has been at least 2 dozen times. Ive adapted the recipe to be gluten free but the most G-free suspects devour them. To make G-free, I use a 1/3 cup almond flour, 1/3 cup coconut flour, and 1/3 (+ 2 TB) of the Bob Red Mill Gluten Free flour mix. Also, I cut the sugar to 2/3 cup. Nobody misses the gluten or sugar.\n",
        "Made more or less per recipe (subbed brown sugar and threw some cacao nibs in) and was disappointed. Tahini doesnt come through at all. \n",
        "\n",
        "Its not a bad recipe, its just not what I want. I was hoping for the chewy and slightly crystallized texture and sesame flavor of hair halvah in a cookie with the benefit of chocolate. Instead, this is a cakey & greasy plain chocolate chip cookie.\n",
        "Just made these and thought they were great. I would add more tahini next and I did cook slightly smaller cookies for about 20 minutes. They are moist and crispy in just the right doses.\n",
        "A keeper!\n",
        "I subbed Trader Joeâ€™s GF flour blend (no xanthan gum). Also subbed in maple syrup for vanilla. Did everything else as described, including refrigeration and they turned out great!\n",
        "Iâ€™ve made these dozens of times; just tried with black sesame and it yielded amazing jet black cookies that look burnt but taste wonderful.\n",
        "Followed instructions perfectly.  Made 12 cookies.  Took twice as long to cook. Maybe because dough came from fridge, but I didnâ€™t see anything say to let dough come to room before cooking.  These are enormous cookies.  No reason you canâ€™t make 24 or more from dough, although I feel less guilt when I say I only at three.\n",
        "Edit to add \n",
        "Mixed by hand.\n",
        "No problem.\n",
        "Nice delicious change from usual cookies.\n",
        "Crispy and chewy.  Sweet, salty, nutty.\n",
        "Read the notes and made following changes:\n",
        "-1/2 c brown sugar   1/4 c granular sugar\n",
        "-Replaced egg with 3tbsp aquafaba (liquid from chickpeas)\n",
        "-Increased baking pwdr 1/4tsp to account for aquafaba \n",
        "-Refrigerated 2 hrs only\n",
        "-30ml scoop (1/8c) used for cookies\n",
        "-Salted before baking; slightly flattened cookie before baking.  Gave nice shape, v small dome to cookie\n",
        "-Convection bake 325F, 18-19 mins.\n",
        "30 cookies\n",
        "These cookies were delicious, but the came out looking like normal cookies with a domed center.  How can I make them look like the photo?\n",
        "Were anyoneâ€™s cookie dough dry? As in so dry it was hard to scoop the dough into balls? Was the end of my tahini jar, so maybe there wasnâ€™t enough oil\n",
        "325 is too low, 20 minutes and now brown on the edges.  Trying 375...a normal cookie temp.\n",
        "Delicious! I let the dough refrigerate for 24hrs and made bigger cookies. They turned out amazing.\n",
        "These are now my favourite chocolate chip cookie! Two caveats: I love halvah and I like soft cookies. Changed to 3/4 c. tahini and 2 eggs and could only wait 6 hours refrigeration. Otherwise the same. So good. Made 24 large cookies.\n",
        "Made these tonight. Used 1/2 stick butter instead of whole stick, 1/3 cup each white sugar and brown sugar, only 1 cup of chocolate chunks (thats all I had) which I roughly chopped. Divided dough in half and added about 1/3 cup chopped toasted hazelnuts to half the dough. Baked small sized balls at 325 for 13 minutes. Forgot to sprinkle with salt but still absolutely divine!\n",
        "These are delicious; they have a nice crumbly texture. I might have overcooked them because it seemed like they just werenâ€™t ready â€ maybe the tahini makes them look wetter than usual? Also, I got 2 dozen from the recipe. Next time Iâ€™ll experiment with the brown sugar others suggested.\n",
        "I didnâ€™t have chocolate chips, so I borrowed an idea from another NYT recipe for Chocolate-Peanut Butter Swirl cookies and divided the batter in half, adding 3T of unsweetened cocoa powder to half of it. Then I rolled about 1T from one half together with 1T from the other half. The cookies turned out beautiful and delicious.\n",
        "I didnt want to stray too far from the recipe, however I used a mix of chocolate chunks and mini chips. I refrigerated for 12+ hours, used a small cookie scoop (my partner had broken our larger one), and I did some tests with flattening vs not. The first batch spread super thin after 15-16 min at 325. The second was the same after 20 minutes. I tried baking them at 350 for 15, then back at 325 for 14 min. All too thin but tasted good. Just crispy instead of chewy and very pale/light in color.\n",
        "These are perfect cookies. Only chilled for an hour or two because I was impatient. Salt generously before baking, not after, or the salt doesnâ€™t stick.\n",
        "Will this be difficult to make mixed by hand? I dont have a Kitchenaid or handheld mixer\n",
        "This is the best choc chip cookie recipe of all time. Including tahini is actually genius. Have made it so many times during quarantine\n",
        "Id say the overall flavor depends heavily on the quality of your tahini, and accounts for why the comments on this recipe are so varied. The splurge on great tahini (homemade if you like) is worth it.\n",
        "\n",
        "I was too impatient to wait 12 hours, so I froze preportioned dough (1.5 Tbsp) for about 2 hours. Baked for 14 min at 325F, switching halfway from lower to top rack. Looked very pale when I took it out, but I patiently waited the 20 minutes -- texture was perfectly chewy-crisp! Will make again.\n",
        "The cookie is tasty, but a whole stick of butter & 1/2 c. tahini made these overly greasy, and I would have enjoyed them more had they been a little more subdued in the fat category. Another poster said she accidentally used only half the butter yet her recipe turned out delicious.  She probably inadvertently improved the recipe.\n",
        "Wow Great recipe!\n",
        "Nutty, comforting, delicious cookies! Fun tip - after 12 hours in the refrigerator, I baked half the batter and rolled the other half into balls to keep in the freezer. Presto - instant homemade cookies whenever the craving calls.\n",
        "\n",
        "One modification I made was to use a 1/2 cup of sugar rather than the full 1 cup the recipe calls for. Still perfectly sweet :)\n",
        "Cookies were good but the tahini flavor was not detectable (even after upping the amount to 3/4 cups).\n",
        "Ive tried with refrigerated dough and non-refrigerated, I didnt notice a difference. I had to cook much longer, over 20 minutes.\n",
        "Im at about 325 in an electric oven and definitely needed a solid 20 minutes before they were baked enough to spatula off the tray. So good though. Even without the sprinkled salt on top (which I forgot to add the first time! Oops!) Also I dont have a mixing bowl with a paddle attachment so just used an electric whisk for the wet ingredients and mixed wet and dry by hand. Definitely not ideal. Wouldnt recommend it. But itll work in a pinch. Just to say, dont be deterred by lack of equipment\n",
        "This recipe was really great and the cookies come out nice and thin and chewy yet crisp at the edges. I swapped out half the granulated sugar for brown sugar. Next time will omit the granulated and just do a half cup of brown. Huge hit! The tahini is a nice touch that offers some nuttiness and thickness to the dough but isnâ€™t overpowering to the taste.\n",
        "These are the best cookies I have ever made.\n",
        "Quarantine adjustments: 1 stick salted butter, 1/2 tsp kosher salt; no fleur de sel; 1 tbsp scoop = 36 cookies. Baked for 13 1/2 minutes on a nonstick cookie sheet (no parchment paper, no silicon baking mat). Also, used a wonky handheld mixer, no fancy paddle attachment. Came out fine.\n",
        "Followed the recipe exactly and had good luck with it. Used ice cream scoop and ended up with 18 cookies, 6 to a cookie sheet in 3 batches. Cooked 16-17 minutes. Texture was very soft, as intended, almost fragile. But they were really good!\n",
        "These cookies slap. So tender, its like having a cookie version of a recees cup.\n",
        "These are amazing cookies. The tahini adds such a nice nutty, salty flavor. Followed recipe and cooked 1 batch longer for crispy cookies with ice cream, other batch less time for chewy stand alone snacks.\n",
        "I found it super easy to overcook these the first time I made them because they looked so pale at the end of the cooking time. They ended up being too hard. They turned out much better the second time, although still took longer than 16 minutes. Will probably increase the oven temp to 350 the next time.\n",
        "I have a large tub of black tahini from the holiday cookies...anyone tried this recipe with black tahini? Iâ€™m thinking it would make them look like chocolate cookies...but taste about the same. Thoughts?\n",
        "Can omit 1/4 of sugar, use two eggs. Chill before baking. Thump so they flatten\n",
        "These are a new go-to! Upped the tahini a bit because I had to finish a container (Soom, highly recommend), and subbed half the sugar for dark brown sugar as others mentioned. The cookies donâ€™t taste much like tahini but are delightfully sweet, bitter and salty. I froze most of the dough in portions to have a warm cookie whenever the craving hits (which will be often)\n",
        "Favorite chocolate chip cookie recipe Iâ€™ve ever made! So good! Also, super easy to make!\n",
        "I hate to be a negative Nancy (or is it Karen these days?), but I really didnâ€™t love these cookies. Iâ€™ve been trying many different cookie recipes in quarantine using up ingredients in my pantry - I made these at the same time as a toasted quinoa chocolate chip cookie recipe and perhaps that was the death knell - these tasted flavorless in comparison. Even my 3 yo rejected them. I will attempt a second batch with some of the edits others have suggested, hopefully with more interesting results.\n",
        "100 gram cookies make enormous cookies - I will do 60g next time. I added a splash of almond extract (but then I love marzipan).\n",
        "We overbaked these a smidge and they are crisp rather than chewy, but still quite nice.\n",
        "Ive been baking lots of cookies in quarantine and everyone in my house said these were the best ones yet! I followed this recipe to a T with a few small tweaks: 1) adding the whole bag of chocolate chunks to the batter, 2) salting them before they went into the oven, 3) refrigerated for over about 16 hours. Even with #2 and #3 being accidents, they still turned out amazing! Perfectly chewy on the inside and slightly crisp around the edges, yummy flavor, and just the right size.\n",
        "tremendously delicious cookies. pretty sure they have magical properties. last time i made them, my toddler distracted me and i left them in the oven a bit too long. they seemed dry, even while still warm, and i was sad that i had ruined the batch. still, i tried one the next day and it was very crunchy, a little too crunchy, but still good. flash forward 2 weeks later and not only were they still in my house, but they had softened to the chewy texture i had intended! MAGIC I TELL YOU!\n",
        "Cookies Not Soft try reducing bake time and/or get an oven thermometer to make sure 325 is 325. Time on hot cookie sheet also effects cookie texture. Move them to cooling rack quickly. If it isnt any of that, could be your humidity levels and storage method.\n",
        "I made these exactly as directed â€ no modifications. Refrigerated dough for a day. Cookies are great tasting, but definitely not soft. What did I do wrong? Thanks!\n",
        "I love this recipe, have made 4-5 times now but in the last 2 have tested switching the tahini to other similar pastes all of which have worked really well! Peanut butter (MERIDIAN - the real stuff which is quite oily with nothing else added) and Hazelnut butter (MERIDIAN again - similarly just hazelnuts made in to paste), with different types of chocolate chunks (milk with peanut and white chocolate with hazelnut) and they have all been delicious. All very popular with my friends\n",
        "Followed the recipe as written except I used a small cookie scoop and made about 30 2-3 inch cookies. Baking time was 14 minutes and they came out delicious!\n",
        "After reading others comments I adapted the recipe as follows;\n",
        "180ml (3/4 cup) of tahini instead of 120ml,\n",
        "2 whole eggs\n",
        "and a quarter dark brown sugar\n",
        "\n",
        "Would sub dark brown for light in future for more caramel notes and less molasses, which whilst tasty slightly overpowered the tahini when baked.\n",
        "I used no-sugar-added cacao nibs. I loved the deep, natural cacao flavour.\n",
        "I liked these but c and j didnâ€™t\n",
        "I made these years ago and loved them so much. The last two times when I went back to make them again, the dough keeps coming out greasy and very soft. My current batch is in the freezer and I hope theyll bake well, but the last batch pooled and made one giant cookie on the baking sheet. That may have been because I subbed coconut sugar for 1/2 the sugar. But this time I followed the recipe exactly, and the dough still looks very shiny and hardly holds its form. Any tips???\n",
        "Love! They just came out of the oven and I cant wait to make them again. I followed the exact recipe above. Next time, I may use a fancier bittersweet chocolate because these cookies deserve the best.\n",
        "Turned out a bit grittier than I was expecting, though that may be because I used Whole Wheat flour (that was all I had on hand in these Quarantine Times). Loved them nonetheless!\n",
        "These came out perfectly and are still chewy the next day. Love this recipe and will make again. Only thing i will do differently next time is letting them brown a bit more before removing from the oven. i followed the guidance to remove from the oven as soon as they start to brown on the bottom (about 16 minutes), but they came out more pale than I typically like.\n",
        "Great cookie recipe!  Complex flavors meld together for a perfect cookie experience. I chopped up a few bittersweet chocolate bars & flattened mine with a wet spatula before baking.  Result is big flat cookies, chewy in the center with crispy edges.\n",
        "I followed the recipe exactly, except that I made smaller balls to get more finished product.  No problem with that. My taster (husband) and I loved the crispiness of the cookie and the subtle nutty flavor, not overwhelmingly sesame. Ill make these again as long as I can buy tahini in these trying times.\n",
        "The batter for this cookie is absolutely gorgeous and delicious. Wow. I find the chocolate chips overwhelm the sesame flavor after baking. Next time I make this (soon) I will omit the chips and roll the balls in sesame seeds before baking. Also bake longer to enhance the sesame nutty flavor.\n",
        "Love the flavors in this recipe!!! You can successfully make these gluten free simply by substituting the flour with Cup 4 Cup or Bobs Red Mill One-to-One Gluten Free Flour.  You can also use carob baking chips in lieu of chocolate for those allergic to cacao.\n",
        "I double dog dare you to let these cool for 20 minutes. Ye gods what a treat!\n",
        "Soooooo goooddd\n",
        "Was a little bit sad to experience cookies were rather crunchy instead of fluffy. However, dank nonetheless.\n",
        "I had great success making a vegan version of these! I used 95 grams of coconut oil and increased the tahini to 2/3 cups. I also used raw cane sugar instead of granulated. Bobs Mill Flax Egg stood in lieu of the egg and yolk. The cookies required a bit of extra baking time (probably 16-18 minutes), but came out fluffy and with a lot of molecular integrity. They were a huge hit, and this recipe will definitely join my repertoire of regulars!\n",
        "Next time do not cook so long!\n",
        "More tahini?\n",
        "Less chips\n",
        "I used a medium sized cookie scoop and got about 24 cookies, that were ~3-3.5 in diameter. I cant imagine wanting a cookie bigger than that! They are tasty and still soft at that size.\n",
        "This is quite possibly the best cookie ever.  Slightly nutty, chocolate, salt, crispy and chewy. Best eaten recently baked. Save the dough and bake as you are ready to eat. I agree that the large cookie size is key to the best texture.  This cookie is guilty of helping me gain my COVID 15 shelter in place pounds!\n",
        "These cookies are incredible. Make sure to mix dough for the full 5 minutes before and after adding flour to ensure the cookies are light and crunchy. They spread a LOT so 3 inches of space on the cookie sheet was not enough for me\n",
        "For some reason, I thought 4oz. was only half a stick of butter. I was wrong. But despite the error of omission, I could not have imagined these cookies being any more delicious. Good to know if you are ever running short.\n",
        "Weirdly, these cookies taste best after they have cooled, at which point them become totally irresistible.\n",
        "I modified with 2 eggs and added dried cranberries along with bittersweet chocolate chips. So delicious.\n",
        "Absolutely wonderful! Doubled. Totally gluten free by subbing (toasted) almond meal. Borrowed changes from other commenters: for single recipe browned Irish butter, used 1 c tahini, half brown and white sugar, 2 whole eggs, half Guittard Akoma and half extra dark chocolate chips. Maldon sea salt. Baked two sheets of small cookies until uniformly  light brown, shifting racks and rotating at 9 minutes. The cookies out of the oven are delicately crisp and slightly chewy. Adjustments worked great.\n",
        "Correction: for doubled recipe I used 1 c tahini. Also reduced baking powder to 1/2 for 5K altitude. Rolled dough into walnut-sized balls then flattened and sprinkled with salt. 15 to a sheet, made almost 80 small cookies. Second round cooked at 325 convection for 12 min. Cookies need to cool a bit before transferring to cooling rack. Will become a regular cookie here, where GF is a demand, and almond meal works as a nutritious, delicious substitute.  Delicious flavor, excellent texture.\n",
        "Yup. Believe every review. Theyre awesome & possibly the best bookie I have ever made. Do yourself a favor and invest in that cookie scoop. Makes a difference.\n",
        "Second time w/the following tweaks. Much better:\n",
        "+ Upped tahini to 3/4 cup (same browned butter)\n",
        "+ Used 2 whole eggs\n",
        "+ Used whole bag of Ghirardelli dark chocolate chips\n",
        "+ Pressed dough scoops flat and sprinkled unbaked tops with mix of black sesame seeds and fleur de sel\n",
        "+ Baked at 350 convection for 15 mins\n",
        "\n",
        "Not quite chewy but crisp and rich - more of a halva flavor\n",
        "Will this work with gluten-free flour?\n",
        "Be advised, gentle reader of comments:  Refrigerating this cookie dough for 12 hours is more important than one might think.  If you dont refrigerate the dough like the recipe says the cookies come out pretty meh. DO refrigerate properly, theyre delicious and tender. Even better than your basic Tollhouse cookies because the Tahini gives protein goodness.  I substituted coconut oil for the butter and used hand mixer instead of stand mixer.  Will make again!\n",
        "Out of this world texture! Not quite chewy, not quite crunchy - melt in your mouth.\n",
        "Does anyone know why this recipe has you beat the eggs and butter so much longer than most cc cookie ones? \n",
        "\n",
        "(Love the recipe, but I dont have a standing mixer (small kitchen), and this is the main reason I dont make it more often.)\n",
        "I scaled up this recipe 8x for a room full of hungry college students, and they absolutely loved it. I got praise days after after I made it, so it was definitely hit. Also, substituting maple syrup for vanilla worked very well, even in large quantities, so dont be afraid to do it! It changes what people think about tahini.\n",
        "These are the best chocolate chip cookies EVER! I have made them several times with a few variations. The large scoop made the best textured cookie. Also used combo of broken really good chocolate bars and chips adding a chocolate chard and sesame seeds to the top of slightly flattened cookie dough. Sprinkle with flaky salt as soon as cookies are out of oven. Tahini gives the cookies that je ne sais quoi that makes them irresistible.\n",
        "I made ice cream sandwiches with these - divine.\n",
        "These are delicious. I prepared them exactly according to the directions. They were much thinner than I expected. Thatâ€™s good, because I like a thin somewhat crispy chocolate chip cookie. Is that the way theyâ€™re supposed to turn out?  The recipe refers to soft cookies, and these were in between soft and crispy, and very thin.  Delicious.\n",
        "I made a mistake and used the 1/3 cup measurement and ended up with 1 and 1/3 cup of sugar, but I really liked the result, so I am going to add the extra sugar next time!\n",
        "To freeze dough: \n",
        "\n",
        "Put dough in balls and freeze.\n",
        "When ready to bake, take balls out of freezer and place on greased sheet pan. \n",
        "Bake cookies 15 minutes at 350.\n",
        "These are SOOOO devine! Multiple people who tried them said they were their new favorite cookie.  Im a chocolate chip cookie fanatic, as well as anything sesame :-)  I did brown the butter to add another layer of savory deliciousness & rolled some of the cookies in sesame seeds for a fun texture before baking (which gained a nice roasty flav in the oven).\n",
        "These are so good! The tahini not only creates a wonderful flavor but mine had a delightful texture, slightly sandy (but in a good way). I am going to try rolling the dough in sesame seeds next time to amp up that sesame flavor and for a bit more crunch.\n",
        "Made exactly as directed, except we only refrigerated the dough for about 4 hours, and they were fantastic. Perfect. Used the marvelous Tarazi tahini and Guittard bittersweet chips.\n",
        "Id not increase the amount of chocolate chips... Ever. I followed the recipe, and the cookies are delicious but I should definitely half the chocolate chips. Too much chocolate to be able to taste the sesame flavor.\n",
        "Tahini added nothing - just tasted like a perfectly nice chocolate chip cookie.  I thought that a regular ice scoop was way too big and I was correct - cookies are way too big.  I may try again with more tahini (as suggested in some of the notes) and using a smaller portion.  But overall - underwhelmed.\n",
        "Im not much of a baker, but Im going to try the tahini on my ice cream.  :)\n",
        "Iâ€™ve made these twice and the flavor is there but they are SO DRY. Iâ€™m following the recipe exactly, I just donâ€™t get what Iâ€™m doing. \n",
        "\n",
        "The first time I thought my baking powder was the problem (it was uncovered in the fridge) and I cooked at 350 on accident. \n",
        "\n",
        "2nd time I had fresh baking powder and cooked at 325 for 15 min (maybe a little less) and the taste great but theyâ€™re really dry. Not crispy, just dry.\n",
        "\n",
        "I would really like to get this right. Any ideas are welcome!\n",
        "Following some commenters, I doubled tahini and replaced half the sugar with dark brown. No electric mixer so beat by hand the best i could. I only refrigerated for a few hours because um I wanted cookies. I did convection at 300 and they were done as described - barely browning at edges - at 12 minutes. Yum! Upping the tahini definitely gives a nutty flavor, not vastly different than peanut butter cookies (my favorite). Even better the next day when completely cooled.\n",
        "Followed the recipe exactly except for using milk chocolate chips because I had them on hand, and chilled for 24 hours. Made 15 cookies (12 + 3) on baking sheets and used an ice cream scoop for sizing. Made delicious, tasty, thin, bakery-style cookies (crisp on edges, soft in the middle) but they spread far more than I expected, and as a result a) I had to keep them in the oven way longer, close to 20 minutes, and b) they formed one large cookie mass, like a sheet of blondies or a dividing cell.\n",
        "I made it pretty much as written and theyre delicious, though I really didnt get much tahini flavor.  I think next time Ill increase the amount, and maybe add more egg as someone suggested.\n",
        "Following the recipe with no revisions, they turned out as really good chocolate chip cookies. The tahini flavor was lacking though once baked (which was the point for me), so I would increase that in the recipe in the future.\n",
        "Delicious. Only revision - added an entire bag of dark chocolate chip morsels.\n",
        "Crispy one day after baking with refrigerating. Rest of dough in freezer, so will have to compare. Subtle nutty flavor, definitely not too out there.\n",
        "This was awesome and well worth the wait in the fridge. I scooped prior to chilling and it was way easier than chilled dough. I used Soom tahini which is seriously the best brand ever. Only other change was I used 1/2 cup brown sugar and 1/2 cup white sugar instead of all white sugar. Not sure how much difference that makes but I wanted soft chewy cookies and I got it.\n",
        "Hi all, I followed the recipe though I did up the tahini to 3/4 cup.  The batter looked (and tasted great)  but then as I added the chips it all turned into extremely oily lump.  The chocolate chips couldnt incorporate, most sat in the bottom of the mixer in a puddle of oil.  What happened?\n",
        "These cookies were too gritty and fell apart.  Sad face.\n",
        "Mine needed to stay in the oven for 22-24 minutes. Turned out divine.\n",
        "First time, followed recipe as written. After making David Leites Choc. Chip. Cookies, I decided to use his basic approach. Also used Plugra butter for crisper exterior, chewier interior. My version: Double recipe, chill 1 hour, form dough into 18 (3.4 to 3.5-oz.) balls. Wrap tightly in plastic. Refrig. 48-72 hours. Bake on parchment-lined sheets @ 350 approx. 18 min., turning once halfway through, until golden brown (not just edges). P.S. Chocolate: El Rey 70% choc. discs. Outstanding cookies.\n",
        "My family loves these cookies! They are a little too salty and sweet, so I half the salt and use 1/2 cup granulated sugar, 1/4 cup brown sugar (they are still sweet enough, you could easily just do 1/2 cup sugar and make them even healthier). I also put 1/3 chickpea flour.\n",
        "As written, this makes a solid chocolate chip cookie. However, I was craving more tahini flavor, so the second time around I rolled the dough balls in toasted white and black sesame seeds. This made them next level amazing. I also used 1/2 light brown sugar, 1/2 granulated. Cookies will certainly work if you cook them right away, but the texture, color and flavor WILL improve if you allow the 12  hours refrigeration.\n",
        "I made these hoping the tahini would make the cookies taste reminiscent of halvah (tahini candy). And the dough was very promising with a pronounced tahini flavor! But once baked, the tahini flavor completely disappears. The cookies were delicate and tasty, but not particularly special for having added such a unique ingredient.\n",
        "I made these, and tried to bake until I got the golden hue of the picture in the video. Dont! It crisps up the cookies too much. These are very very pale cookies; leave them that way\n",
        "Perfect as written. My favorite chocolate chip cookie recipe.\n",
        "Just made these and didnt wait the 12 hours- needed cookies now! \n",
        "The result was larger, flatter cookies and the recipe made 24 cookies. I will make immediately again but I will make the cookies smaller.\n",
        "Have made these at least a dozen times now and theyre always a hit at parties and other social gatherings. Everyone wants to know what makes them extra special.\n",
        "I did 14 minutes for about 26 cookies. I did 3/4 cup tahini and I think it could use even more. I mixed for suggested time, about ten minutes total. \n",
        "\n",
        "Absolutely perfect soft cookies.\n",
        "Easy Peasy to make, and I thought the tahini flavour was on point with the amount mentioned in the recipe. \n",
        "But keen to try the alternate versions mentioned below. \n",
        "Mine did rise in the oven, but flattened when it cooled; is that normal?\n",
        "cream for a total of 4 minutes next time, and bake for 15\n",
        "Favorite cookie recipe ever! The second time I baked these, i swapped out the flour and used an all-purpose gluten-free flour blend. They were just as great! Coworkers had no idea they were GF, total hit!\n",
        "Like others suggested, I used dark chocolate for these and they turned out great. Loved the subtle taste of the tahini in the cookies, and the texture was really nice (crispy on the outside and chewy on the inside). I love topping my cookies with maldon salt :) I baked these for a little longer than 16 min to get the edges to slightly brown. I wonder if I could also incorporate sesame into these cookies?\n",
        "I used nearly double the tahini because I wanted to use up a whole Kronos jar I found languishing in the pantry -- so a scant 2 cups for a double batch. Used 3 whole eggs for the double batch and substituted light brown sugar for half of the granulated. I didnt want giant cookies, so I baked 1T scoops for 15 minutes and got 6 dozen. Skipped the post-bake salting. Dough was salty enough to be interesting already. Despite all these liberties, cookies came out absolutely delicious.\n",
        "Boyfriend, not much of a cookie or chocolate person, remarked on saltiness. The salt didnt bother me much, but I may drop the dusting if I make these  again. Used table salt in batter and sprinkled top with sea salt that I ground  with mortar / pestle, so that may have affected flavors. I did like finding this recipe, because it was a good way to use up  tahini I had on hand. Made with hand mixer, and  dough seemed fine. Ended up with 25 cookies. Baked each batch for  16 minutes\n",
        "These are absolutely delicious. I made half the dough into larger cookies (the size the recipe calls for), and another batch about half the size so I could share with a larger group. Both worked beautifully. Tahini flavor is strong in the dough then mellows into subtle crispiness in the baked cookie. A revelation.\n",
        "would it taste awesome with almond flour?  Could honey sub for sugar?\n",
        "Pro tip: add a handful or two of salted sunflower seeds for texture and cook batter in a round 9â€ cake pan for 35 minutes. Result is a moist, texturally complex treat.\n",
        "Honestly, I dont know what all the accolades are for.  I found this cookie average tasting, and lacking in any texture or nuance.  Without the salt, I didnt find them very different from most chocolate chip cookies.  I wont make these again, unless I do some modifications to the flour and add nuts.\n",
        "These were good but I didnâ€™t find them to be an improvement over regular old chocolate chip cookies.\n",
        "Make a double recipe and a little bit smaller\n",
        "Everyone loves these! I used 2 whole eggs to add volume. I also found that the cooking time is up to 20 minutes at 350 or else they are underdone.\n",
        "Excellent cookies! Totally make these again, preferably a double recipe.\n",
        "Recipe made 25 good-sized cookies. I think I would make them even smaller next time. Used bittersweet chocolate chips and loved the flavors. Cookies are very soft when taken out of the oven (at 16-18 minutes) so dont try to take them off the cookie sheet until they have cooled a bit. I used an ice cream scoop to form the cookies and rounded scoops into little balls.\n",
        "Used a mix of white whole wheat flour and all purpose; also cut the sugar in half and used a mix of turbinado and dark brown sugar. Baked two cookies immediately - because I couldnâ€™t wait. Difficult to form in scoops, but managed to squish dough together. Cookies didnâ€™t spread much and were delicious!\n",
        "Didnt have tahini, so I used peanut butter. Dont know if that affected the bake time but I ended up cooking them at 325 for about 20min. Came out great! Would definitely try this again with tahini next time!\n",
        "Gluten Free- EXCELLENT!!\n",
        "62 g brown rice flour\n",
        "58 g oat flout\n",
        "30 g potato starch\n",
        "1/3 teaspoon xanthan gum\n",
        "Absolutely delicious. Dough was refrigerated for about 18:00 hours. Quantity was enough for 20 cookies. All gone, before you could believe it. Second batch is in the making. \n",
        "Kosher salt did not fit through my sifter, so just had to sprinkle the kosher salt on top of the flour mixture and stir....\n",
        "\n",
        "Still, everyone loved the cookies...\n",
        "I made the cookie dough yesterday and baked them this morning. I used a large ice cream scoop (it should say the capacity of the scoop, not just large) but I think it should say a small scoop. Also it was almost impossible to scoop as it came out of the refrigerator. I baked them at 325 and the first batch was a bit under baked. The second batch came out beautifully. They all taste delicious under baked or not. So if I make them again Iâ€™d make them smaller and bake them longer. \n",
        "I didnt have 12 hours to chill, so they went right in the oven and turned out very tender. I salted them about 5 min into baking to be sure the salt would stick. \n",
        "I was lazy to set aside the whites from the 2nd egg so I just added it and a bit extra flour. Turned out just fine.\n",
        "Delicious!\n",
        "This is the best chocolate chip cookie recipe I have ever tried and Iâ€™ve tried way more than a few. Do you know how I know? My husband told me not to share the recipe with anyone. Ever. \n",
        "\n",
        "\n",
        "Can these be made as a bar rather than drop cookies?\n",
        "Any chance the flour/matzo meal could be replaced by almond flour to make these gluten free?\n",
        "Perfect as written. I use dark chocolate chips. \n",
        "Can this be made as bars?\n",
        "Only use 1 cup of chocolate chips. Otherwise too overloaded for my taste\n",
        "\n",
        "\n",
        "This recipe really intrigued me and I had to try it! The cookies were really delicious, crackled on the outside with a soft inside! I wanted to keep them dairy free and put my own twist on these cookies.\n",
        "1/2 c tehini\n",
        "1/2 c white sugar\n",
        "1/2 c brown sugar\n",
        "2 tbsp canola oil\n",
        "2 tbsp coconut oil the harden form\n",
        "2 tbsp natural peanut butter\n",
        "2 tsp vanilla \n",
        "1 egg\n",
        "1 yolk of egg\n",
        "Added 1/2 c oat flour 1/2 c + 1/8 c white flour 3/4 tsp baking powder 1/2 tsp baking soda forgot the salt\n",
        "then folded in chocolate\n",
        "Refrigerated for about an hour and found it to be firm enough. Once scooped I shook a little kosher salt over the top of them to make up for the forgotten salt.   Baked as directed, turning the tray around half way through.  Taking out of the oven while still soft to cool on cookie sheet.  Decided to make a batch of the dairy ones as well and will wait to bake those tomorrow.  \n",
        "These are good cookies, people! Julia -- with all respect for your fun recipe, you make your cookies too big. I followed your recipe to the letter, but made my cookies by the rounded teaspoonful. Yield: 50 cookies. Baking time: 23 mins per batch, at 325. Just to the point you said: golden brown around the edges, pale in the middle. Im sharing with neighbors for Christmas, but the cry has already been heard: save some for us! \n",
        "Made these last night for a Christmas cookie exchange. They were OK. Theyre thin, crispy cookies, which is not my preference. I love thick, chewy cookies. The tahini does add depth of flavour but its very subtle. Im unlikely to make these again.\n",
        "made these as directed except increased tahini.  They turned out great, but not chewy, rather crisp.  Might have been the high altitude (Im in Denver), but everyone loved them  They were softer when I I made them in Portland.\n",
        "I had 21 cookies. Next time I will make them smaller to get an even 2 doz. They are quite flat. I refrigerated them overnight; a step that has been recommended elsewhere as being important. I subbed 1/2 dark brown sugar and used semi-sweet chocolate - 1/2 chips and 1/2 shards I chipped off a block. Next time Ill try a darker chocolate. I thought they were very tasty, my husband didnt notice that they were any different from a regular choc chip cookie.\n",
        "Wonderful!  Used a full cup of Ghirardelli dark chocolate bits.  Why hold back?\n",
        "Dec.  8 - took to Hannukah party at Foster-Falks. Good.\n",
        "Shape into balls. Smaller than they recommend. Cooked large ones for almost 25 min!\n",
        "36 (2 1/2-inch) cookies\n",
        "\n",
        "1 1/4 cups  all-purpose flour\n",
        "3/4 teaspoon baking powder\n",
        "1/2 teaspoon baking soda\n",
        "1/4 teaspoon fine salt\n",
        "8 tablespoons (1 stick) unsalted butter, at room temperature\n",
        "1/2 cup tahini\n",
        "1/2 cup packed dark brown sugar\n",
        "1/2 cup granulated sugar\n",
        "1 large egg\n",
        "1/2 cup  coarse-grain sugar, such as demerara\n",
        "NOT IMPRESSED!  Chocolate chip cookies and the tahini added nothing that I could taste.\n",
        "2x batch\n",
        "\n",
        "Browned butter\n",
        "1.5 c tahini (WF and Soom)\n",
        "Whole wheat flour 350g\n",
        "1c each white and brown sugar 200g each\n",
        "460g mixed chocolate (72%, 74%, 82%, 84%)\n",
        "Makes 32\n",
        "this is my favorite cookie. i like to scoop the cookies before freezing. then i just pop them into a ziptop bag and bake a few at a time as needed. the smell when you beat the eggs and sugar and tahini together is incredible.\n",
        "6 cookies per half sheet pan. 22 minutes in the oven.\n",
        "Fresh out of the oven I hated these, but once fully cooled and crispy theyâ€™re soooo good. I oversalted and used the wrong chocolate in too big of a chunk so next time Iâ€™ll use better chocolate in tiny chunks and be way more conservative when dusting with flaky salt. And let them cool, of course. \n",
        "Great cookies!\n",
        "I made these with 3/4 cup Ziyad Tahini, 2 eggs, and 9 oz chopped dark chocolate. I did not refrigerate the dough. I used a 1â€ cookie scoop to drop 16 cookies on each sheet and baked at 350 on convection for 15 min. Cookies were tender and crisp.\n",
        "Such a nice cookie. I made mine dairy and gluten free and they are delicious, crispy edges and a little chewy in the middle. I substituted Earth Balance for the butter and Bobs Red Mill 1 to 1 for the flour. I also reduced the sugar to 2/3 cup because I prefer them less sweet. When I make them for Christmas cookie exchanges, Ill put the full amount of sugar in them. I found they needed 22 minutes in the oven. I got 22 three-inch cookies using a small scoop. The perfect size.\n",
        "These are absolutely delicious and received rave reviews from several friends, including one who doesnâ€™t usually like chocolate chip cookies. I used a smaller cookie scoop, baked them for 12-13 minutes, and got about 36 cookies out of the batch.  I baked two cookies immediately and chilled the rest of the dough overnight, per the recipe. The first two cookies were good, but I thought the resting really did result in a better flavor and texture. \n",
        "Best if baked for 14.5 minutes.  \n",
        "\n",
        "Spread a ton - so maybe bake from frozen?\n",
        "I made these semi vegan with 4T aquafaba (chickpea liquid) instead of the eggs and used half almond half spelt flour, half brown and half coconut sugar. still great!\n",
        "These were absolutely fantastic. I swapped out a third of the tahini for peanut butter.  And served then fresh and hot out of the oven to guests with vanilla ice cream.  Yum. \n",
        "I had never heard of halvah cookies or using tahini in cookies, so hats off to the brilliant person who came up with this. I threw caution to the wind and froze the mixture for about 30 minutes because I didnt want to wait til tomorrow to bake. Mine turned out paler than the photo, but still delicious. Tahini was subtle, yet added a depth. I tossed in extra chocolate for because Im a chocolatier. Thats what we do. I used a nice big scoop and it yielded ~14 large cookies for me.\n",
        "Has anyone tried baking these as bar cookies, in a jellyroll-type pan or a 13x9 pan? Thats my go-to method for my usual chocolate chip cookies, since its so quick and easy.\n",
        "Really good. Donâ€™t overbake even if cookies look very pale. Helps to flatten them a bit. \n",
        "Took Shaila Mâ€™s advice. Topped with pink sea salt, fat sanding sugar and sesame seeds...then made vanilla ice cream cookie sandwiches...YUM!\n",
        "Used brown butter and chilled for 2 hrs, Delicious but needs more tahini taste- the chocolate chips overpower the subtlety of the nuttiness. Might spice grind up some whole black sesames n add into the batter for next batch\n",
        "Following tweaks suggested by a reader:\n",
        "+ Upped tahini to 3/4 cup (same browned butter)\n",
        "+ Used 2 whole eggs\n",
        "+ Used whole bag of Ghirardelli dark chocolate chips\n",
        "+ Used small cookie scoop and got 3 dozen out of batch\n",
        "+ Pressed dough scoops flat and sprinkled unbaked tops with mix of black sesame seeds and fleur de sel\n",
        "+ Baked at 350 convection for 15 mins\n",
        "\n",
        "Not quite chewy but crisp and rich - more of a halva flavor\n",
        "SOSOSOSOSO GOOD!  I made them pretty much as is the recipe. No refrigeration. Cookies came out dense with a subtle flavor. Next tome I will reduce the amount of chocnchips.\n",
        "Forgot to add - in my half recipe, used only 1/3 cup of brown sugar, 1/2 cup all purpose flour and 1 tablespoon of mochiko. I think spelt or white whole wheat flour would also be good in these. Also, added 1 teaspoon of sesame oil.\n",
        "Delicious. Added a few tablespoons of sesame seeds. Made half a recipe, using one whole egg. Baked them on a â€œmuffin topâ€ pan (a baking tray with 6 shallow indentations), mounding a couple of tablespoons of dough in each section. Baked about 15 minutes. Only made six to have with ice cream for dessert tonight, the rest of the dough went into the fridge to be baked off tomorrow. Really donâ€™t think the dough needs to chill for 12 hours; did not do that tonight and they turned out great.\n",
        "Used Bobs 1 to 1. Worked fine\n",
        "Even though Iâ€™m a dark chocolate lover, I used milk chocolate chips here. I think the softer flavor compliments the tahini. \n",
        "Out of this world good. I used a smaller scoop and baked for 14ish minutes. They were absolutely divine. \n",
        "Iâ€™ve made these several times and they are a hit! Iâ€™ve also substituted half garbanzo and half almond flour for the regular flour for gluten free friends.\n",
        "I used my blue scoop and got 14.  I would like to make them smaller next time.\n",
        "YUH UH MEE !!     \n",
        "I tried these, following the recipe exactly. The texture was wonderful, however, I found them to be incredibly bland in taste. Anyone else?\n",
        "These cookies are delightful! My 14 year old son who cant get excited about anything at this age, actually requested I make them again...soon!\n",
        "I used dark chocolate chips, which really give the cookies a lovely addictive flavor.\n",
        "As I couldnt wait to try, I did the first 1/2 about 4 hours after refrigeration, and the rest the next day. I didnt see a noticeable difference in the different lengths they were refrigerated.\n",
        "YUM.\n",
        "The flavor is very good! I cut the sugar by 10%, and the cookies are still too sweet (with semisweet chips). I will try more chips next time and chips of a darker chocolate.\n",
        "For healthy twist, these came out amazing! Substituted coconut oil for the butter, and buckwheat flour for half of the flour, used 3/4 cup tahini basically 1.5x what it called for. Did not refrigerate, the dough is sticky but easily able to use a medium melon scooper. Baked at 350 for 12 minutes on silicon mat (which prevents crisping) they came out soft, chewy, and everyone was raving about them! They did not brown, if you wait for that, theyd be crispy, I wanted them chewy. Great recipe!\n",
        "Please note that refrigerating the dough is a must. If you make these with warm dough they will come out the consistency of bricks. Otherwise theyre delicious\n",
        "Baked these again April 2, 2018. Used Â¾ cup Tahini, same amount of butter, and two whole eggs. Baked in convection oven for 13 minutes.\n",
        "One half recipe cooked immediately, other half overnight in refrigerator. So far no difference. \n",
        "\n",
        "This mornings bath out of the oven for an hour.\n",
        "Last nights batch is now pleasantly firm, not crunchy, sort of chewy still.\n",
        "I think the tahini was more influential in the texture than the flavor. Plus I think the total baking time was closer to 20 minutes. Absolutely love these.\n",
        "I followed the directions exactly and my whole family loved them. I hid half a dozen so we could share with my mom and MIL when theyâ€™re over for dinner tomorrow. I suspect this is one that theyâ€™ll both want the recipe for.  I mostly just use tahini to make hummus, so itâ€™s great to have another use for it.\n",
        "My son requested that I send these for his birthday!  Redolent of sesame seeds, such a sweet nutty/seedy scent. Use the best dark chocolate chips--Guittard extra dark very good.  Youll never go back to chocolate chip cookies.\n",
        "Im a cooking novice, so I followed the recipe exactly, using dark chocolate chips. My wife, whos an amazing baker, thought they were a success, so I felt good about that.  Did anybody else notice that the sesame flavor was more pronounced when the cookie is dunked in milk, or is that just me?\n",
        "I am not good at delayed gratification and put the cookies into the oven as soon as I made the dough. They turned out spectacular. I used half caster, half brown sugar and half whole, half white spelt. I cut 72% chocolate into chunks and sprinkled flaky sea salt and black sesame seeds over the unbaked cookies just before they went into the oven. They do spread out tremendously and turn into a delicately crisp cookie with a little chew in the middle. I will make these again. Soon!\n",
        "I skipped refrigerating the dough, used a teaspoon to make walnut sized balls, baked as directed, resulting in about 3 dozen delicious, crispy cookies. My family cant get enough of these yummy cookies.\n",
        "The Maledon salt makes this swoon-worthy.  To be fair, it has that effect wherever used judiciously.  But to take a chocolate chip cookie to that level is delicious.  The tahini is part of it, too.  Great cookie!\n",
        "Unfortunately I couldnt really taste the tahini but they were still delicious!\n",
        "Does anyone have any experience freezing a portion of the cookie dough for future use? I got 2 dozen cookies out of this recipe the first time I made it and thats a lot.\n",
        "Used 1/2 cup white sugar, 1/2 cup brown sugar. Put in freezer for about an hour before baking.\n",
        "Delicious. Husband declared them my best choc. chip cookies ever!!! I think hes right. Perfect texture, extravagantly delicious amount of chocolate (used TJs choc. chunks) and the tahini plays very nicely with the chocolate. Definitely will make again\n",
        "This is a very standard chocolate chip cookie recipe with 1/2 cup of tahini added. Why fix whats not broken? Yes, the tahini adds an undertone of flavor, but the money ingredients (for those of us who like the sweet-salty combo) are chocolate chips & the flaky Maldon salt on top. If tahini taste is the focus, I much prefer Melissa Clarks Tahini Shortbread Cookie recipe.\n",
        "This is a fantastic recipe and has become the go to when we want to make a cookie treat. My family prefers this to the standard chocolate chip recipe. I used sprouted whole wheat flour and it came out just as delicious - tender in the middle, crunchy on the edges. It is not too sweet. I used 72% cacao chocolate though - I used a knife and chopped the block into smaller pieces (3 more minutes worth of work). I used only 180 g of chocolate today as I didnt have enough. Still great.\n",
        "Reduce Sugar to 160â€170g\n",
        "Increase tahini to 130g\n",
        "Bang pans after 8-12 mins\n",
        "This was amazing! I used less 1/4 c sugar (3/4 c instead) and it was just the right amout of sweet, salty, and nutty. Will definitely make again.\n",
        "These were delicious, but keep in mind that since there is no brown sugar, they do not darken like most chocolate chip cookies. I overcooked mine because I kept checking for brown edges like the photo above, but that never happened for me anyway. I enjoyed my light-colored, light-textured cookie crisps anyway.\n",
        "Advice please:  Can these be frozen for a couple of weeks in an airtight container?  I want to include these delicious treats in my holiday cookie bags I give to friends.  However, I must be able to freeze batches of cookies for up to 2 weeks because I simply cant make and deliver all the treats in a couple of days.\n",
        "I made these with Kevala Black Tahini and they were delicious! The result is a slightly gray/black-colored cookie and the black sesame flavor really comes through.\n",
        "I made these and followed the suggestion of a baker to increase the tahini to 3/4 cup, etc. Ended up with a cakey cookie; probably should have cooked them a minute more. Not a winner in my book. The best part of the recipe is the alluring title.\n",
        "I made them twice, the second time adding toasted walnuts that I\n",
        "put in the oven with a bit of butter and salt. Found they added texture and flavor.\n",
        "This recipe was burning a hole in my pocket for months! Finally got to it this weekend, and it most certainly did not disappoint! Makes quite a few rather large cookies. Next time I will make them a little smaller. But these things are seriously scrumptious!\n",
        "Any recommendations for doubling or tripling the recipe?  Or, would you recommend doing each batch separately?\n",
        "Im not sure who has the patience or willpower to wait 12 hours to bake the cookies they just put together, but certainly not me. I put these on th  cookie sheets and into the frezer for 10 or 15 monutes before baking them -- they turned out wondeful. Crispy around the edges, but chewy in the middle. \n",
        "I tried these for the 5th or 6th time w 1/2 margarine and 1/2 butter, and always w pink salt. Cooked for approx. 15 mins. until  crispy and medium brown.  Game on Good!\n",
        "These are great as bar cookies (what we call blondies in our home). After mixing in the chips, I greased a 9x13 pan with butter and spread the batter in. I refrigerated the whole pan for 1 hour and then baked it at 325 degrees until the top was golden brown (30-35 minutes). The texture was about the same as a blondie, but the tahini made them taste even better. BTW, I used premium tahini (Soom). Probably not the same with the bitter stuff that separates into oil and concrete.\n",
        "I used a mini scoop and made 60 cookies. I flattened them and sprinkled with Fleur de Sel prior to baking. I followed someones recommendation for baking for 15 minutes at 350. I dont have a convection oven, but have speed bake which is similar and they came out great.\n",
        "These are heavily addictive and hard to share. I love the texture and slightly salty taste. \n",
        "I have made this recipe several times and like it very much.  I have a different experience with the dough: it is very stiff, and it is difficult to incorporate the chocolate chips.  They are still delicious, but dont spread as noted in the recipe.  I weigh the ingredients, use large eggs for the egg and yolk, and Whole Foods brand 365 tahini.  Could the tahini be the variable?\n",
        "These are very good. The tahini taste is far too subtle, the suggested cookie size far too large for my taste. Cooked at 325 but in a smaller size yielded a crisper cookie for me. Moderate amount of sweetness which I like. Should be wonderful with good ice cream. I abandoned the Toll House bag recipe years ago when I discovered Silver Palates recipe which I also bake at a standard rather than a giant size. Im amping up the tahini here if I try this again.\n",
        "The addition of a 1/4 c. finely chopped pecans didnt hurt this fine recipe. Could only wait 4 hours of chilling time before baking these things off and topping with kosher salt. The tahini gives a complexity to this recipe (not unlike the one on the back of the yellow package). I think next time Ill try some brown or Demerara sugar instead of the granulated white.\n",
        "For 23 g sugar per serving these really should have more fiber than 1 g.  It can be remedied by adding a tablespoon or two of ground flaxseed.  To up the protein, swap 2T of the wheat flour out for whole wheat or better yet, chickpea flour.\n",
        "Ive tried very hard to think of some reason why an American recipe would call for 4 ounces or 113 grams of butter rather than a stick. Ive racked my brains. Ive racked my brains. I cant think of a single reason. But I must say, I enjoy thinking about some poor soul with a razor blade shaving down a stick of butter until it weighs 113 grams. Not 111 or 115 mind you, but EXACTLY 113. Ive certainly seen an extra gram of butter ruin many recipes entirely!\n",
        "Wondering if these could be made with Cup 4 Cup gluten free flour.\n",
        "Can anyone suggest how can i make these not as flat ?? add more flour? mm...thanks\n",
        "My calorie calculator says 700 plus kcals per cookie! Anyone else have a count on this recipe?\n",
        "I made these smaller and got about 24 cookies. They baked for the same time listed in the recipe, but I still kept them soft as suggested. How would the big ones not be underbaked? I only chilled the dough for   5-6 hours, and it was fine. They were very good, but the tahini isnt a super strong flavor. They tasted like regular chocolate chip cookies with a hint of nuttiness.\n",
        "These are the best cookies I have ever made. I couldnt stop eating them. I used Hummingbird Tahini. Mixed by hand, didnt separate eggs, nor chill overnight, but they were fantastic. I had a block of chocolate chips that melted together in my car, which I smashed, and the fine dust created in that process gave them a sort of chocolate swirl quality which I would actually highly recommend if you too have a solid block of chocolate (old easter bunny?) you are trying to get rid of.\n",
        "I love this cookie!  However, I tried to double the recipe and that did not work very well. The tahini was not incorporated well enough and I wont do that again. Ive made these cookies at least four times, single batch of course, Ive never refrigerated them and they are still delicious.\n",
        "The cookie part itself was great.  I used Whole Foods Organic Tahini.  Unfortunately it was very difficult to taste the cookie part b/c I used Whole Foods 67% bittersweet chunks.  They very much overwhelmed the cookie.  If I made it again I would make it with 2/3 cup choc chunks  & just semi-sweet.\n",
        "This is a great recipe! The tahini flavor comes through but its not overwhelming. I used 140g of sugar (half brown half regular) instead of 200 grams called for in the recipe. But the cookies still turned out way too sweet! Next time I will try using 100 grams of sugar.  I didnt have 12 hours to refrigerate the dough. I popped them in the freezer for 20 minutes. I think it turned out fine.\n",
        "Great!  I love the flavor.  I used half white sugar and half brown.  My only quibble is that the resulting cookies are a little too flat for my preference, but I should be able to tinker a bit and fix that.\n",
        "I only refrigerated the dough for three hours, and the cookies were fine. Delicious recipe!\n",
        "Can be made VEGAN.  I cant eat any dairy so I tried these with vegan butter and dark chocolate chips and everyone thought they were great.\n",
        "Oh no, these are too good! I can see me eating many of these with a nice cup of tea! I didnt salt all of them as my children wanted some without. Interestingly, I preferred theirs - and I love salt! So, I recommend salting half of the cookies the first time you bake them, just to see what you prefer :)\n",
        "These are the best cookies I ever made. I am constantly asked when am I going to make the tahini chocolate chip cookies again.   I only wish I was thin enough to eat them every day.\n",
        "This is our favorite cookie recipe, requires chilling the dough.  But the outcome, almost not to be believed.  Sea salt flakes on top - a must!  My 13 year old just asked when we can make them next.\n",
        "Best cookies Ive ever made. They get even better with time, so let them cool completely before trying them!\n",
        "You may or may not find this helpful.  But here goes.  I made these as directed except using half white / half brown sugar.  I baked three batches in different intervals. Here are my results:  Batch 1: dough in the fridge 9 hours Cookies baked hard as rocks. Not very tasty  Batch 2: dough put back in freezer, 1 week Cookies much i proved but a little bitter aftertaste.   Batch 3: dough put back in freezer 1 more wee. (Total time 2 weeks,9 hous) Cookies baked 9 minutes.  Amazingly delicious!\n",
        "I didnt want them too crisp, so I pulled them out at 13 minutes. That made them too soft and delicate, as others have pointed out. So I stuck them in the fridge, and after chilling, they are the texture I wanted. I followed the suggestion to use 3/4 cup tahini and 2 whole eggs.\n",
        "These are great. I used Once Again raw organic tahini, plus swapped sugar for half coconut sugar/half maple sugar and used gluten-free flour with a pinch of xantham gum. I skipped the 1 1/2 eggs and just used two whole eggs. They turned out perfectly! The only change Ill make next time is to make smaller cookies. Has anyone tried these as oatmeal raisin cookies?\n",
        "Any ideas on what to substitute the butter for?\n",
        "Honestly, I just made this to eat the dough.  And then I ate too much of it because its insanely tasty.  I baked up the remainder for my coworkers, and I couldnt taste the tahini in the finished product.  But they were still wonderful cookies.\n",
        "Last Passover, I used a combination of matzoh cake meal and potato starch, and they were fine.  This year, I used a combination of almond flour and quinoa flour (more almond than quinoa, probably 75-25), and the cookies were outstanding.  No one could believe that they were kosher for Passover.  I used some Hadar chocolate chips, some from another brand (cant remember, but the Hadar were better) and I also broke up an Elite chocolate bar and used that.  They were the hit of the week.\n",
        "I substituted gluten free all purpose flour (Bobs Red Mill brand) and so I added 1/4 teaspoon xanthan gum to the dry ingredients. I only chilled the dough for about an hour (in a metal bowl though) and perhaps made my cookies a bit smaller (the recipe made 24 cookies). They took around 20 minutes to bake (with a turning of the cookie sheet half way through) and they came out GREAT. Ive been nervous to try the direct substitution with GF flour but this definitely inspired me.\n",
        "I added an extra half cup of flour because mine seemed, dare i say, too buttery. Skipped the rest in the fridge and they turned out great!\n",
        "Second time w/the following tweaks. Turned out much better: + Upped tahini to 3/4 cup (same browned butter) + Used 2 whole eggs + Used whole bag of Ghirardelli dark chocolate chips (srsly, NY Times, why skimp on chocolate in these dire days?) + Used small cookie scoop and got 3 dozen out of batch + Pressed dough scoops flat and sprinkled unbaked tops with mix of black sesame seeds and fleur de sel + Baked at 350 convection for 15 mins  Not quite chewy but crisp and rich - more of a halva flavor\n",
        "These are fantastic. Happy to have my eyes opened about sweet uses of sesame, as Im a big fan of sesame in savory dishes. These definitely need the final sprinkle of salt to offset the sweetness. In fact, Im going to try making them with a little less sugar next time to see whether that reduces the sweetness without affecting the texture.\n",
        "Hmm. Underwhelmed. I used brown sugar, and half as much as called for (per suggested in notes). Texture was cakey, rather than chewy. Maybe next time Ill use the correct amount of sugar, and I try brown butter per another suggestion. My hands down favorite choc chip cookie is the cooks illustrated version with browned butter, so I am thinking that brown butter + tahini would be divine.\n",
        "Amazing!  My husband said AWESOME!  As suggested by some I doubled the recipe. Used dark brown sugar. Added a cup of oatmeal. Use Himalayan salt. As pretty as they are delish. A definite keeper. \n",
        "These might be the best cookies Ive ever made.  They manage to be - all at once - just the right degree of salty, bittersweet, just plain sweet, crunchy and chewy.    I made two versions - one with a 2 scoop and one with a 1 scoop. Both came out perfectly.  Both needed something like 20 minutes to make the edges light brown while the middles stayed paler.  Keep an eye on them as they bake.  Theyre so good that one is completely satisfying. This recipe is one for the ages.\n",
        "I made them with browned instead of softened butter and swapped out 1/2 the granulated for dark brown sugar. MUCH better and gives that caramelized taste so many of you said was missing. The browned butter/tahini/brown sugar nuttiness is the most amazing smell.\n",
        "Used Himalayan salt I had on hand and it worked beautifully.  Used 1/3 bittersweet and 2/3s semisweet dark chocolate.  Phenomenal cookie.  The sesame butter taste of the tahini gives just the right amount of nutty essence that makes this so much better than a typical chocolate chip cookie.\n",
        "These cookies are Amazing. The dough tastes like Halvah. I was advised to use Lebanese tahini (versus Egyptian) with the claim that it is not bitter. (I dont know if thats true). But after stirring it, it was pourable and very easy to work with. The grocer advised me not to refrigerate it. These are my new favorite cookies.\n",
        "Mmmmmmm warm with vanilla ice cream. \n",
        "My new favorite!\n",
        "Fantastic! Used El Rey Gran Saman discs, halved. Tested 3 times--using different #s of cookies and baking times. Best batch: 15 cookies, 16 minutes. On removal from oven, theyre VERY fragile, so I slid parchment onto racks with cookies still on them. Removed from parchment after approx.  15 min. when they had firmed up a bit. Parchment traps moisture, so remove as soon as feasible to allow bottoms to crisp up. Make sure each one gets a hit of salt.\n",
        "Not very impressed.  I followed this recipe to the letter, and experimented with a lot of variables (how long I refrigerated the dough, the thickness of the dough going into the oven, etc.) and my results were all disappointing. While the subtle tahini flavor is nice, the cookies are light, crumbly, and lack the chew and deep caramel flavor of the classic tollhouse recipe. A fun experiment, but the novelty of the tahini flavor is not worth what you sacrifice in fuss and texture.\n",
        "I made the dough for this yesterday and it has been sitting in the fridge for 24+ hours. Rather than bake the cookies today, Id like to make them for a get together this upcoming Thursday. Will the dough keep with refrigeration, or do I need to freeze it? Or should I go ahead and just bake the cookies today if neither of those options work?\n",
        "Absolutely delicious. My husband was dubious (I normally only make the Times David Leite recipe), but these were so good, and the tahini adds a delightful nuttiness. I used a combo of semisweet, bittersweet and milk chocolate because I was trying to use up several half bags of leftover chocolate chips. It worked!\n",
        "This recipe is delicious.  My friends and family loved these cookies.\n",
        "ok yeah, these are pretty good. How many times have I made them now? Lost count. Do refrigerate the dough. Do not press down the cookies before baking or they will come out super thin.\n",
        "DELICIOUS! I made them more of a standard-size ~2TBS balls instead of gigantic as the recipe calls for & got 29 cookies. Experimented with whether to salt before they went in the oven, mid-way through as I was alternating trays in & out, or after they came out as the recipe calls for... it was a good excuse to test 3 cookies instead of one.\n",
        "To make this kosher for Passover, also eliminate baki g powder!  Try several egg whites, instead.\n",
        "Will it be too difficult to mix the cookie dough without an electric mixer with a paddle attachment?  I only have ordinary electric beaters.\n",
        "To say that this recipe is ...just as good as the original is a vast understatement.  These are THE BEST chocolate chip cookies weve found.  Period.  Love the tahini which does just as described adds nuttiness and savoriness.  Terrific find!\n",
        "Love this recipe.  Made them twice - first time didnt refrigerate.  Second time did.  The refrigeration results in a much chewier cooke - our preference.  Will make these again & again.\n",
        "I have made scores of chocolate chip cookie recipes, in a quest for the perfect one. Ive shared them with lots of people too, as a makeshift focus group. I had a recipe that was all my own (as if) which included lots of stuff--coconut, white chocolate, Heath chips, etc--which was the hands down bestseller...until these came along. Simple but interesting, and the salt-sweet makes them quite adult. They are my favorite, too and thats saying something!\n",
        "The refrigeration is definitely required, made a few test cookies without chilling the dough,baked at 325, they were crispy...But still tasted good. After overnight refrigeration they turned out nice and cakey, baked at 350,the dough does spread quite a bit. Keeper!\n",
        "Not as good as they ought to be.  Can taste the tahini (which I love), but Id make the classic ones instead.\n",
        "Did a test: baked 1/3 of the cookies after the dough spent an hour in the refrigerator, and also another 1/3 after 24 hours.  I didnt detect any difference.  Both were reasonably tender.  The tahini flavor was very subtle.\n",
        "I have made these a few times. Like all chocolate cookies they are incredibly good when freshly baked. I will make them again eventhough the tahini is so subtle you wouldnt know it was there but I believe it does give them more depth. I wish two things and would love to hear thoughts on the following...could we make them a bit thicker? And what about a heavier tahini flavor approaching halva? Would it work to just addmore tahini? I used great Tahini by the way -- Soom from Philedelphia.\n",
        "Really good! I added chopped walnuts which gave them some good texture too.\n",
        "I had trouble with this one. The 325 temp was too low and the cookies spread a lot. I think the recipe needs two full eggs and 350 oven temp. The tahini needs to be really solid like a paste not the oily version that sometimes is available. I was disappointed because it was a lot of work + 12 hours freezing and then the cookies were really only ok. I think this one needs nuancing.  For the effort, Id do the regular ol toll house mix and throw in some tahini to give it taste.\n",
        "I had some toasted sesame seeds which I added to the recipe (about two TBS) and they added a nice toothy snap.  Splurge and use your Maldon salt flakes for their sparkly deliciousness.  Everyone loves this cookie!\n",
        "I replaced the butter with coconut oil and the dough was stiff enough that I didnt think refrigeration was necessary.  The cookies were ready in 17 minutes and were very tender, well-formed and absolutely delicious.\n",
        "These cookies were fantastic, just the right amount of sweet and salty. I have never refrigerated my cookie dough, and now I always will. It seemed like the cold dough prevented the cookies from overcooking or burning and also held the chocolate chunks in stable position as the cookies melted into place. Final tip: We used a wooden spoon to mix and regular kosher salt to finish (we were kitchen-challenged that day), and these were still perfect! So delightful and so dangerously easy to make.\n",
        "Does anyone know if the dough would last well in the freezer if we only wanted to make a few cookies at a time?\n",
        "After taste testing one fresh from the oven and one an hour later, they really are better later. I used a small ice cream scoop and put in the oven for 12 minutes, because I prefer slightly chewy and gooey cookies. No crispy edges for me.\n",
        "Note: 1) Its not kosher for Passover if you use leavening and 2) if you use the matzo cake meal, use less - the dough was extremely dry and crumbly when I did it that way.\n",
        "Id call these Patience Cookies! Wait 12 hours overnight before cooking, then wait 20 minutes after they come out of the oven! What dough survived the overnight wait is in the oven now...well see how many cookies make it past the 20 minute wait mark!\n",
        "Nice change of pace, but the basic Nestle Toll House cookie still reigns supreme. Using an ice cream scoop produced gigantic cookies. Next time Ill make em a bit smaller. After refrigerating overnight, took dough out to bake and found that the second batch I baked turned out better than first; suspect the dough bakes better when it is closer to room temperature.\n",
        "I made these and although they were good, I dont think worth the time. I still cant find a choc chip recipe that beats the king rather flour choice chip and oatmeal cookie.\n",
        "Delicious! I wasnt patient or organized to give them 12 hours in the fridge.  Baked them right away and they were perfect.\n",
        "A wonderful addition to the recipe box.  A real keeper.  I didnt refrigerate for 12 hours instead tried putting the dough in the freezer for 15 minutes because I couldnt wait to try the finished product.  Next time Ill try to plan ahead to see how it works to refrigerate for 12 hours.\n",
        "These are easy and tasty cookies to make. I over baked and missed the soft chewy texture but they are very tasty! I used bitter chocolate chips and that cut nicely on the sweetness. Recommended! Next time I will try to shorten cooking time on my oven so as to reach the texture meant in the recipe.\n",
        "Has anyone baked these right away after mixing instead of refrigerating for 12 hours?  How did they come out?\n",
        "We experimented by cooking 4 right away and putting the rest in the fridge for 12 hours.  The first batch was fantastic, so Ill be surprised if they are much better tomorrow.  The tahini flavor was very subtle- what do folks think would happen if I tried with 3/4 c or 1 c of tahini next time? (I always add more peanut butter than recommended in peanut butter cookies...)\n",
        "These cookies r fabulous!\n",
        "Light and cakey, probably bc I cut sugar to almost 1/3. 1/2 the amount might be better. Half a batch made 30 2-inch cookies. Recommend salting immediately after baking, pressing the grains onto the surface gently with the back of a spoon. Be VERY conservative with the salt!\n",
        "I realised too late that the title is salted tahini chocolate chip cookies. The ingredients say only tahini, and dont specify which kind. In supermarket, there was salted and unsalted tahini and I bought unsalted. Does anyone know if the recipes in this article (and the related ones on using tahini in other desserts) all default to using salted tahini? What is unsalted tahini used for? And can I just mix salt into the unsalted tahini to make it salted tahini? Thx!\n",
        "These are amazing! I used a smaller ice cream scoop resulting in over 30 cookies that were nice and soft. Baked for 12 minutes, letting them rest on the pan for 5 minutes or else they would have fallen apart. Also, salted before baking. They came out nice and soft. Even better than peanut butter-chocolate cookies!\n",
        "I made these for Passover by subbing a mixture of matzo cake meal & potato starch for the flour (& used Pesadic vanilla, chocolate chips, tahini). I did refrigerate them overnight & that not only made them very tender, it also lessened the matzo meal smell. My 11-year old noticed the smell, but we could not taste the matzo meal at all. I think the tahini, which is nice but subtle, helps mask the matzo meal taste. Ill definitely make these again for Passover.\n",
        "I loved these but cut the sugar by almost half; Ill use even less next time. I also substituted whole wheat flour for half the white.\n",
        "I did half light brown sugar and half granulated sugar without refrigerating the dough at all and it turned out amazing!\n",
        "I didnt let them rest 12 hours. I still got very tasty and tender cookies, and I dont even feel guilty about cheating.\n",
        "Sugar reduction: I substituted 1/2 cup truvia baking blend for the 1 cup of sugar and a package of stevia sweetened dark chocolate baking chips (Lilys brand at Fresh Market). Delicious result! Also salted before baking as suggested by others.\n",
        "If I dont have an electric mixer fitted with the paddle attachment, does anyone have a suggestion on how to approach this part of the recipe? A hand mixer? Force my husband to mix by hand?\n",
        "I made these last night and was disappointed with the flavor - especially considering I waited an extra 12 hours to bake them! I like tahini, but didnt feel it added anything special to the cookies. As an FYI, I used a #20 (aka, 1/4 cup) scoop and was able to fit 8 cookies on a sheet. Im not sure if that was too large because they took a lot longer than 16 min - more than 20 - to brown at the edges. And after cooling 20 min, they were crisp, not soft.\n",
        "Shes not joking - take them out at 16 minutes.  I had to leave on baking sheet a little longer (1-2 minutes) to allow them to firm up more prior to transferring to the wire rack (otherwise they would have fallen apart), but they turned out soft and perfect.\n",
        "Delicious--worked at altitude, too (9000+). Chilled in freezer for two hours. Subbed a few butterscotch chips since I was low on chocolate. Wouldnt recommend it; their taste is too fake and rather phony. Cookies still yummy though.\n",
        "Oops-I meant fake and potent.\n",
        "One more thing--the salt flakes fell off if added after cooking.  I sprinkled over dough balls before baking.\n",
        "These have a wonderful je ne sais quo about them. I thought of adding walnuts, but am glad I didnt. The subtle tahini flavor and chocolate are enough. (I used Ghirardeli 60 percent chips.) I cut the sugar by 1/4 c. with no problem. Never would I put as much salt on top as the photo shows! I even might cut back the salt in the recipe next time.\n",
        "Also: Made them half as big as recipe suggested (got 36) and baked about 14 minutes with no problems.\n",
        "My je ne sais quo in a previous note should have read je ne said quoi, for I dont know what.\n",
        "These spread a lot. 9 per cookie sheet and a few linked. Very good.\n",
        "I substituted matzo cake meal and used Passover baking powder to make the cookies for Passover, and ended up with tasty rocks! I  believe the problem is proportions, having subsequently looked up conversions from flour to matzo cake meal or potato starch in order to make some of our favorites kosher for Passover. 1 cup of regular flour should be replaced with only 5/8 cup of matzo cake meal or potato starch or a mixture of both to equal 5/8 cup.\n",
        "I dont know if this was said elsewhere, but these cookies can never be made Kosher for Passover for the Ashekenazim.  Sesame seeds are considered kitniyot, and are forbidden.  Sephardim, on the other hand, do eat kitniyot (peas, beans, legumes) so for them, this recipe is ok for Pesach.\n",
        "On the subject of added leavening for Passover -- you may indeed use baking soda and baking powder.  As another contributor said, they are non-biological leavening agents, and in fact, in most Jewish neighborhoods, you can get baking powder labelled, kosher for passover -- I have it on my shelf right now.\n",
        "They came out very cakey using cake meal.  I would try again with regular flour after Passover.\n",
        "Delicious. I used a #40 portion scoop and got 30 cookies. The first batch came out too light for my taste after 15 minutes so I increased the temperature to 350. The second and third batches are a lovely golden brown after the same amount of time. I found that the tahini paste gives the cookies a similar texture to a classic peanut butter cookie.\n",
        "These just didnt work for me with matzoh cake meal. They didnt spread despite all the space, very crumbly after I squashed them and baked a little longer. Disaster.\n",
        "My kids (3,6,and 10) love this cookie! Im so happy to sneak more protein into their cookies. Thanks for the great recipe.  PS - We were not willing to wait 12 hours so we put the dough in the freezer for one hour. They are still delicious!\n",
        "Fabulous - bakery quality and looks. Needed a bunch of extra baking time though (at least 20 min).\n",
        "Oh, what a keeper!  I used whole wheat pastry flour, and cut the white sugar to 1/2 cup, adding 1/2 cup light brown sugar (packed).  I also used two whole eggs.  Ghirardelli dark chocolate bits.  And because we love nuts, we added about 3/4 cup chopped pecans.  About the baking:  we made them half the size, baked for 13 minutes, and they were perfect.\n",
        "Used bittersweet disks (fevres) to get that layered chocolate thing going, a la Jacques Torres choc chip cookies.  So good.\n",
        "I like crispy cookies so I baked these for 26 minutes. I made 19 cookies. They are delicious.\n",
        "How would someone adjust this recipe for high altitude?\n",
        "These are like chocolate halvah cookies - simply scrumptious.  I used Roland Sesame Tahini and TJs 70% bittersweet chocolate broken into small chunks.  Used a 2 tbsp measuring spoon to portion out 17 cookies.  Baked for 16 minutes and allowed to cool about an hour before partaking.  Important to allow them room to spread.  12 fit nicely on a cookie sheet, and then baked 2nd batch of 5.  Sprinkled a bit of kosher salt over all.  A real winner - could be my favorite cookie ever.\n",
        "These are fantastic.  Perfect color and bake.  Flavor is light and not too sweet.   Less chocolate chips used. Will be a regular in the cookie line up.\n",
        "Read this in the times yesterday and I already have the dough in the fridge.  The batter tastes great but waiting 12 hours will kill me.  I like the fact that it didnt make a mass of dough. Question: How many oz per cookie is an ice cream scoop? I want these to turn out perfect before posting on 6by6Klinger Cooking\n",
        "Substituting matzoh cake meal for AP flour will not make this recipe kosher for Passover. The use of both baking powder and soda is prohibited for observant Jews  during the holiday.\n",
        "Can tahini be substituted with another ingredient? I cant find that in any market of my city!\n",
        "I hate to ask - but the calories for this wonderful cookies?\n",
        "Can you make these with a small cookie scoop amount or will they burn if they are smaller?\n",
        "Can something be substituted for the Tahini? Sesame allergy.\n",
        "RE: TAHINI Sauce or paste???\n",
        "Recipe ingredients refer to a note regarding the use of matzoh meal.  Could the EDITOR please include with recipe.  With thanks :)\n",
        "'''"
      ],
      "execution_count": null,
      "outputs": []
    },
    {
      "cell_type": "code",
      "metadata": {
        "id": "JTWyl4Bm3M2e"
      },
      "source": [
        "## some cleaning\n",
        "\n",
        "tahini = tahini.replace(\"\\n\",\"\").replace(\"â€™\",\"\").replace('\"',\"\").replace(\"(\",\"\").replace(\")\",\"\")\n",
        "tahini = tahini.replace(\"!\",\"! \").replace(\"?\",\"? \")"
      ],
      "execution_count": null,
      "outputs": []
    },
    {
      "cell_type": "code",
      "metadata": {
        "colab": {
          "base_uri": "https://localhost:8080/"
        },
        "id": "9C00BQsE0dKK",
        "outputId": "e2b1030b-805b-48b3-f1bb-350400b3e420"
      },
      "source": [
        "## downloading our nlp packages \n",
        "\n",
        "import nltk\n",
        "nltk.download('punkt')\n",
        "from nltk.tokenize import sent_tokenize\n",
        "from nltk import word_tokenize"
      ],
      "execution_count": null,
      "outputs": [
        {
          "output_type": "stream",
          "text": [
            "[nltk_data] Downloading package punkt to /root/nltk_data...\n",
            "[nltk_data]   Unzipping tokenizers/punkt.zip.\n"
          ],
          "name": "stdout"
        }
      ]
    },
    {
      "cell_type": "code",
      "metadata": {
        "id": "_bw1Fopu0hYT"
      },
      "source": [
        "sentences = [word_tokenize(sent) for sent in sent_tokenize(tahini)]"
      ],
      "execution_count": null,
      "outputs": []
    },
    {
      "cell_type": "code",
      "metadata": {
        "id": "P79h3mwv0hdu"
      },
      "source": [
        "from gensim.models import Word2Vec"
      ],
      "execution_count": null,
      "outputs": []
    },
    {
      "cell_type": "code",
      "metadata": {
        "id": "8vUkSfZnwosN"
      },
      "source": [
        "## here we create the word2vec\n",
        "\n",
        "model = Word2Vec (sentences = sentences,\n",
        "                     window=2, \n",
        "                     min_count=1)\n",
        "\n",
        "## can change the size (length of word vectors) or window (number of skipgrams) as needed"
      ],
      "execution_count": null,
      "outputs": []
    },
    {
      "cell_type": "code",
      "metadata": {
        "colab": {
          "base_uri": "https://localhost:8080/"
        },
        "id": "5dbwgdKx4JIg",
        "outputId": "cd90e181-43da-4faf-a5e3-051e75cfb2ae"
      },
      "source": [
        "## now every word is encoded as a vector\n",
        "\n",
        "model.wv['cookie']"
      ],
      "execution_count": null,
      "outputs": [
        {
          "output_type": "execute_result",
          "data": {
            "text/plain": [
              "array([-0.05877687,  0.146475  , -0.01632884,  0.00949367,  0.0821468 ,\n",
              "       -0.18688317,  0.09057522,  0.3149694 , -0.12308385, -0.14805657,\n",
              "       -0.05887669, -0.2145786 , -0.01647165,  0.0811099 ,  0.04248514,\n",
              "       -0.14127225,  0.06729642, -0.11216928, -0.01473593, -0.32797116,\n",
              "        0.06018739, -0.00851302,  0.08333395, -0.10135923, -0.0532962 ,\n",
              "        0.02851017, -0.13963379, -0.05884026, -0.15283805,  0.07323474,\n",
              "        0.19888918, -0.00923844,  0.07153329, -0.17305347, -0.06591739,\n",
              "        0.2023298 ,  0.06086759, -0.03946402, -0.0588645 , -0.2257442 ,\n",
              "        0.08955012, -0.16184044, -0.08437572,  0.03099872,  0.16593565,\n",
              "       -0.02639372, -0.11874807, -0.11154158,  0.11885288,  0.05761882,\n",
              "        0.13906795, -0.18642044, -0.0221382 , -0.01559383, -0.12174785,\n",
              "        0.07037941,  0.06202475, -0.01109466, -0.19463056,  0.02009687,\n",
              "        0.02935196,  0.00090349,  0.02882442, -0.02926095, -0.1766024 ,\n",
              "        0.18637836,  0.10263012,  0.11964151, -0.20397282,  0.18538703,\n",
              "       -0.14791268,  0.09438454,  0.17044131, -0.03988888,  0.15192819,\n",
              "        0.06356771, -0.00219401,  0.02373408, -0.10332128,  0.00451424,\n",
              "       -0.15376133, -0.0019252 , -0.1566272 ,  0.20324598, -0.06686234,\n",
              "       -0.08423669,  0.06817785,  0.16175047,  0.2053675 ,  0.05084658,\n",
              "        0.17681196,  0.07710684,  0.00331438,  0.00354232,  0.23808621,\n",
              "        0.09311026,  0.09156054, -0.09190577,  0.05636287, -0.02642224],\n",
              "      dtype=float32)"
            ]
          },
          "metadata": {
            "tags": []
          },
          "execution_count": 11
        }
      ]
    },
    {
      "cell_type": "code",
      "metadata": {
        "colab": {
          "base_uri": "https://localhost:8080/"
        },
        "id": "8nl-6TP3_bQm",
        "outputId": "1afbe43d-35a5-410c-d7b2-d45c6138bc06"
      },
      "source": [
        "np.shape(model.wv['chocolate'])\n",
        "\n",
        "## each word2vec is a (100,) vector"
      ],
      "execution_count": null,
      "outputs": [
        {
          "output_type": "execute_result",
          "data": {
            "text/plain": [
              "(100,)"
            ]
          },
          "metadata": {
            "tags": []
          },
          "execution_count": 12
        }
      ]
    },
    {
      "cell_type": "code",
      "metadata": {
        "colab": {
          "base_uri": "https://localhost:8080/"
        },
        "id": "hwB5nyOy6u4T",
        "outputId": "2bbd9c7c-3bbd-461f-d7f7-2f4da1c3fcf3"
      },
      "source": [
        "## as we can see, however, \n",
        "## our dataset of words is pretty limited\n",
        "## so we're not getting very helpful info\n",
        "## from our word vectors\n",
        "\n",
        "model.wv.most_similar(\"cookie\")"
      ],
      "execution_count": null,
      "outputs": [
        {
          "output_type": "execute_result",
          "data": {
            "text/plain": [
              "[('of', 0.9988715052604675),\n",
              " ('to', 0.9985632300376892),\n",
              " (',', 0.9985196590423584),\n",
              " ('cookies', 0.9984765648841858),\n",
              " ('I', 0.9983770847320557),\n",
              " ('in', 0.9983242154121399),\n",
              " ('.', 0.9983240365982056),\n",
              " ('the', 0.9983115792274475),\n",
              " ('for', 0.9983100891113281),\n",
              " ('them', 0.9982691407203674)]"
            ]
          },
          "metadata": {
            "tags": []
          },
          "execution_count": 13
        }
      ]
    },
    {
      "cell_type": "code",
      "metadata": {
        "id": "fqP8oPkg4MM_"
      },
      "source": [
        "model.save(\"tahini-comments-vectorized\")"
      ],
      "execution_count": null,
      "outputs": []
    },
    {
      "cell_type": "code",
      "metadata": {
        "id": "UOdg7RZf4VZM"
      },
      "source": [
        "model = Word2Vec.load(\"tahini-comments-vectorized\")"
      ],
      "execution_count": null,
      "outputs": []
    },
    {
      "cell_type": "markdown",
      "metadata": {
        "id": "jVger5M2ML_d"
      },
      "source": [
        "Later when creating our RNN we'll need to \"get\" each word's vectorization. We can do this by using the word2vec indexing capacities."
      ]
    },
    {
      "cell_type": "code",
      "metadata": {
        "id": "GxicYLPT-wxc"
      },
      "source": [
        "model.wv.key_to_index\n",
        "\n",
        "## this gives us a dictionary with words and keys!!"
      ],
      "execution_count": null,
      "outputs": []
    },
    {
      "cell_type": "code",
      "metadata": {
        "colab": {
          "base_uri": "https://localhost:8080/",
          "height": 36
        },
        "id": "w6CRA9Ko5nX8",
        "outputId": "2a3f927f-450e-4cf8-b2ac-7eda2c029020"
      },
      "source": [
        "model.wv.index_to_key[1000]"
      ],
      "execution_count": null,
      "outputs": [
        {
          "output_type": "execute_result",
          "data": {
            "application/vnd.google.colaboratory.intrinsic+json": {
              "type": "string"
            },
            "text/plain": [
              "'moist'"
            ]
          },
          "metadata": {
            "tags": []
          },
          "execution_count": 23
        }
      ]
    },
    {
      "cell_type": "code",
      "metadata": {
        "colab": {
          "base_uri": "https://localhost:8080/"
        },
        "id": "bItKpved_yrq",
        "outputId": "aa5c7684-3019-4bae-d863-0a94254a0ef8"
      },
      "source": [
        "model.wv.get_index('chocolate')"
      ],
      "execution_count": null,
      "outputs": [
        {
          "output_type": "execute_result",
          "data": {
            "text/plain": [
              "16"
            ]
          },
          "metadata": {
            "tags": []
          },
          "execution_count": 24
        }
      ]
    },
    {
      "cell_type": "markdown",
      "metadata": {
        "id": "w1UIpPiWJ5Ui"
      },
      "source": [
        "## Now let's create the RNN"
      ]
    },
    {
      "cell_type": "code",
      "metadata": {
        "colab": {
          "resources": {
            "http://localhost:8080/nbextensions/google.colab/files.js": {
              "data": "Ly8gQ29weXJpZ2h0IDIwMTcgR29vZ2xlIExMQwovLwovLyBMaWNlbnNlZCB1bmRlciB0aGUgQXBhY2hlIExpY2Vuc2UsIFZlcnNpb24gMi4wICh0aGUgIkxpY2Vuc2UiKTsKLy8geW91IG1heSBub3QgdXNlIHRoaXMgZmlsZSBleGNlcHQgaW4gY29tcGxpYW5jZSB3aXRoIHRoZSBMaWNlbnNlLgovLyBZb3UgbWF5IG9idGFpbiBhIGNvcHkgb2YgdGhlIExpY2Vuc2UgYXQKLy8KLy8gICAgICBodHRwOi8vd3d3LmFwYWNoZS5vcmcvbGljZW5zZXMvTElDRU5TRS0yLjAKLy8KLy8gVW5sZXNzIHJlcXVpcmVkIGJ5IGFwcGxpY2FibGUgbGF3IG9yIGFncmVlZCB0byBpbiB3cml0aW5nLCBzb2Z0d2FyZQovLyBkaXN0cmlidXRlZCB1bmRlciB0aGUgTGljZW5zZSBpcyBkaXN0cmlidXRlZCBvbiBhbiAiQVMgSVMiIEJBU0lTLAovLyBXSVRIT1VUIFdBUlJBTlRJRVMgT1IgQ09ORElUSU9OUyBPRiBBTlkgS0lORCwgZWl0aGVyIGV4cHJlc3Mgb3IgaW1wbGllZC4KLy8gU2VlIHRoZSBMaWNlbnNlIGZvciB0aGUgc3BlY2lmaWMgbGFuZ3VhZ2UgZ292ZXJuaW5nIHBlcm1pc3Npb25zIGFuZAovLyBsaW1pdGF0aW9ucyB1bmRlciB0aGUgTGljZW5zZS4KCi8qKgogKiBAZmlsZW92ZXJ2aWV3IEhlbHBlcnMgZm9yIGdvb2dsZS5jb2xhYiBQeXRob24gbW9kdWxlLgogKi8KKGZ1bmN0aW9uKHNjb3BlKSB7CmZ1bmN0aW9uIHNwYW4odGV4dCwgc3R5bGVBdHRyaWJ1dGVzID0ge30pIHsKICBjb25zdCBlbGVtZW50ID0gZG9jdW1lbnQuY3JlYXRlRWxlbWVudCgnc3BhbicpOwogIGVsZW1lbnQudGV4dENvbnRlbnQgPSB0ZXh0OwogIGZvciAoY29uc3Qga2V5IG9mIE9iamVjdC5rZXlzKHN0eWxlQXR0cmlidXRlcykpIHsKICAgIGVsZW1lbnQuc3R5bGVba2V5XSA9IHN0eWxlQXR0cmlidXRlc1trZXldOwogIH0KICByZXR1cm4gZWxlbWVudDsKfQoKLy8gTWF4IG51bWJlciBvZiBieXRlcyB3aGljaCB3aWxsIGJlIHVwbG9hZGVkIGF0IGEgdGltZS4KY29uc3QgTUFYX1BBWUxPQURfU0laRSA9IDEwMCAqIDEwMjQ7CgpmdW5jdGlvbiBfdXBsb2FkRmlsZXMoaW5wdXRJZCwgb3V0cHV0SWQpIHsKICBjb25zdCBzdGVwcyA9IHVwbG9hZEZpbGVzU3RlcChpbnB1dElkLCBvdXRwdXRJZCk7CiAgY29uc3Qgb3V0cHV0RWxlbWVudCA9IGRvY3VtZW50LmdldEVsZW1lbnRCeUlkKG91dHB1dElkKTsKICAvLyBDYWNoZSBzdGVwcyBvbiB0aGUgb3V0cHV0RWxlbWVudCB0byBtYWtlIGl0IGF2YWlsYWJsZSBmb3IgdGhlIG5leHQgY2FsbAogIC8vIHRvIHVwbG9hZEZpbGVzQ29udGludWUgZnJvbSBQeXRob24uCiAgb3V0cHV0RWxlbWVudC5zdGVwcyA9IHN0ZXBzOwoKICByZXR1cm4gX3VwbG9hZEZpbGVzQ29udGludWUob3V0cHV0SWQpOwp9CgovLyBUaGlzIGlzIHJvdWdobHkgYW4gYXN5bmMgZ2VuZXJhdG9yIChub3Qgc3VwcG9ydGVkIGluIHRoZSBicm93c2VyIHlldCksCi8vIHdoZXJlIHRoZXJlIGFyZSBtdWx0aXBsZSBhc3luY2hyb25vdXMgc3RlcHMgYW5kIHRoZSBQeXRob24gc2lkZSBpcyBnb2luZwovLyB0byBwb2xsIGZvciBjb21wbGV0aW9uIG9mIGVhY2ggc3RlcC4KLy8gVGhpcyB1c2VzIGEgUHJvbWlzZSB0byBibG9jayB0aGUgcHl0aG9uIHNpZGUgb24gY29tcGxldGlvbiBvZiBlYWNoIHN0ZXAsCi8vIHRoZW4gcGFzc2VzIHRoZSByZXN1bHQgb2YgdGhlIHByZXZpb3VzIHN0ZXAgYXMgdGhlIGlucHV0IHRvIHRoZSBuZXh0IHN0ZXAuCmZ1bmN0aW9uIF91cGxvYWRGaWxlc0NvbnRpbnVlKG91dHB1dElkKSB7CiAgY29uc3Qgb3V0cHV0RWxlbWVudCA9IGRvY3VtZW50LmdldEVsZW1lbnRCeUlkKG91dHB1dElkKTsKICBjb25zdCBzdGVwcyA9IG91dHB1dEVsZW1lbnQuc3RlcHM7CgogIGNvbnN0IG5leHQgPSBzdGVwcy5uZXh0KG91dHB1dEVsZW1lbnQubGFzdFByb21pc2VWYWx1ZSk7CiAgcmV0dXJuIFByb21pc2UucmVzb2x2ZShuZXh0LnZhbHVlLnByb21pc2UpLnRoZW4oKHZhbHVlKSA9PiB7CiAgICAvLyBDYWNoZSB0aGUgbGFzdCBwcm9taXNlIHZhbHVlIHRvIG1ha2UgaXQgYXZhaWxhYmxlIHRvIHRoZSBuZXh0CiAgICAvLyBzdGVwIG9mIHRoZSBnZW5lcmF0b3IuCiAgICBvdXRwdXRFbGVtZW50Lmxhc3RQcm9taXNlVmFsdWUgPSB2YWx1ZTsKICAgIHJldHVybiBuZXh0LnZhbHVlLnJlc3BvbnNlOwogIH0pOwp9CgovKioKICogR2VuZXJhdG9yIGZ1bmN0aW9uIHdoaWNoIGlzIGNhbGxlZCBiZXR3ZWVuIGVhY2ggYXN5bmMgc3RlcCBvZiB0aGUgdXBsb2FkCiAqIHByb2Nlc3MuCiAqIEBwYXJhbSB7c3RyaW5nfSBpbnB1dElkIEVsZW1lbnQgSUQgb2YgdGhlIGlucHV0IGZpbGUgcGlja2VyIGVsZW1lbnQuCiAqIEBwYXJhbSB7c3RyaW5nfSBvdXRwdXRJZCBFbGVtZW50IElEIG9mIHRoZSBvdXRwdXQgZGlzcGxheS4KICogQHJldHVybiB7IUl0ZXJhYmxlPCFPYmplY3Q+fSBJdGVyYWJsZSBvZiBuZXh0IHN0ZXBzLgogKi8KZnVuY3Rpb24qIHVwbG9hZEZpbGVzU3RlcChpbnB1dElkLCBvdXRwdXRJZCkgewogIGNvbnN0IGlucHV0RWxlbWVudCA9IGRvY3VtZW50LmdldEVsZW1lbnRCeUlkKGlucHV0SWQpOwogIGlucHV0RWxlbWVudC5kaXNhYmxlZCA9IGZhbHNlOwoKICBjb25zdCBvdXRwdXRFbGVtZW50ID0gZG9jdW1lbnQuZ2V0RWxlbWVudEJ5SWQob3V0cHV0SWQpOwogIG91dHB1dEVsZW1lbnQuaW5uZXJIVE1MID0gJyc7CgogIGNvbnN0IHBpY2tlZFByb21pc2UgPSBuZXcgUHJvbWlzZSgocmVzb2x2ZSkgPT4gewogICAgaW5wdXRFbGVtZW50LmFkZEV2ZW50TGlzdGVuZXIoJ2NoYW5nZScsIChlKSA9PiB7CiAgICAgIHJlc29sdmUoZS50YXJnZXQuZmlsZXMpOwogICAgfSk7CiAgfSk7CgogIGNvbnN0IGNhbmNlbCA9IGRvY3VtZW50LmNyZWF0ZUVsZW1lbnQoJ2J1dHRvbicpOwogIGlucHV0RWxlbWVudC5wYXJlbnRFbGVtZW50LmFwcGVuZENoaWxkKGNhbmNlbCk7CiAgY2FuY2VsLnRleHRDb250ZW50ID0gJ0NhbmNlbCB1cGxvYWQnOwogIGNvbnN0IGNhbmNlbFByb21pc2UgPSBuZXcgUHJvbWlzZSgocmVzb2x2ZSkgPT4gewogICAgY2FuY2VsLm9uY2xpY2sgPSAoKSA9PiB7CiAgICAgIHJlc29sdmUobnVsbCk7CiAgICB9OwogIH0pOwoKICAvLyBXYWl0IGZvciB0aGUgdXNlciB0byBwaWNrIHRoZSBmaWxlcy4KICBjb25zdCBmaWxlcyA9IHlpZWxkIHsKICAgIHByb21pc2U6IFByb21pc2UucmFjZShbcGlja2VkUHJvbWlzZSwgY2FuY2VsUHJvbWlzZV0pLAogICAgcmVzcG9uc2U6IHsKICAgICAgYWN0aW9uOiAnc3RhcnRpbmcnLAogICAgfQogIH07CgogIGNhbmNlbC5yZW1vdmUoKTsKCiAgLy8gRGlzYWJsZSB0aGUgaW5wdXQgZWxlbWVudCBzaW5jZSBmdXJ0aGVyIHBpY2tzIGFyZSBub3QgYWxsb3dlZC4KICBpbnB1dEVsZW1lbnQuZGlzYWJsZWQgPSB0cnVlOwoKICBpZiAoIWZpbGVzKSB7CiAgICByZXR1cm4gewogICAgICByZXNwb25zZTogewogICAgICAgIGFjdGlvbjogJ2NvbXBsZXRlJywKICAgICAgfQogICAgfTsKICB9CgogIGZvciAoY29uc3QgZmlsZSBvZiBmaWxlcykgewogICAgY29uc3QgbGkgPSBkb2N1bWVudC5jcmVhdGVFbGVtZW50KCdsaScpOwogICAgbGkuYXBwZW5kKHNwYW4oZmlsZS5uYW1lLCB7Zm9udFdlaWdodDogJ2JvbGQnfSkpOwogICAgbGkuYXBwZW5kKHNwYW4oCiAgICAgICAgYCgke2ZpbGUudHlwZSB8fCAnbi9hJ30pIC0gJHtmaWxlLnNpemV9IGJ5dGVzLCBgICsKICAgICAgICBgbGFzdCBtb2RpZmllZDogJHsKICAgICAgICAgICAgZmlsZS5sYXN0TW9kaWZpZWREYXRlID8gZmlsZS5sYXN0TW9kaWZpZWREYXRlLnRvTG9jYWxlRGF0ZVN0cmluZygpIDoKICAgICAgICAgICAgICAgICAgICAgICAgICAgICAgICAgICAgJ24vYSd9IC0gYCkpOwogICAgY29uc3QgcGVyY2VudCA9IHNwYW4oJzAlIGRvbmUnKTsKICAgIGxpLmFwcGVuZENoaWxkKHBlcmNlbnQpOwoKICAgIG91dHB1dEVsZW1lbnQuYXBwZW5kQ2hpbGQobGkpOwoKICAgIGNvbnN0IGZpbGVEYXRhUHJvbWlzZSA9IG5ldyBQcm9taXNlKChyZXNvbHZlKSA9PiB7CiAgICAgIGNvbnN0IHJlYWRlciA9IG5ldyBGaWxlUmVhZGVyKCk7CiAgICAgIHJlYWRlci5vbmxvYWQgPSAoZSkgPT4gewogICAgICAgIHJlc29sdmUoZS50YXJnZXQucmVzdWx0KTsKICAgICAgfTsKICAgICAgcmVhZGVyLnJlYWRBc0FycmF5QnVmZmVyKGZpbGUpOwogICAgfSk7CiAgICAvLyBXYWl0IGZvciB0aGUgZGF0YSB0byBiZSByZWFkeS4KICAgIGxldCBmaWxlRGF0YSA9IHlpZWxkIHsKICAgICAgcHJvbWlzZTogZmlsZURhdGFQcm9taXNlLAogICAgICByZXNwb25zZTogewogICAgICAgIGFjdGlvbjogJ2NvbnRpbnVlJywKICAgICAgfQogICAgfTsKCiAgICAvLyBVc2UgYSBjaHVua2VkIHNlbmRpbmcgdG8gYXZvaWQgbWVzc2FnZSBzaXplIGxpbWl0cy4gU2VlIGIvNjIxMTU2NjAuCiAgICBsZXQgcG9zaXRpb24gPSAwOwogICAgd2hpbGUgKHBvc2l0aW9uIDwgZmlsZURhdGEuYnl0ZUxlbmd0aCkgewogICAgICBjb25zdCBsZW5ndGggPSBNYXRoLm1pbihmaWxlRGF0YS5ieXRlTGVuZ3RoIC0gcG9zaXRpb24sIE1BWF9QQVlMT0FEX1NJWkUpOwogICAgICBjb25zdCBjaHVuayA9IG5ldyBVaW50OEFycmF5KGZpbGVEYXRhLCBwb3NpdGlvbiwgbGVuZ3RoKTsKICAgICAgcG9zaXRpb24gKz0gbGVuZ3RoOwoKICAgICAgY29uc3QgYmFzZTY0ID0gYnRvYShTdHJpbmcuZnJvbUNoYXJDb2RlLmFwcGx5KG51bGwsIGNodW5rKSk7CiAgICAgIHlpZWxkIHsKICAgICAgICByZXNwb25zZTogewogICAgICAgICAgYWN0aW9uOiAnYXBwZW5kJywKICAgICAgICAgIGZpbGU6IGZpbGUubmFtZSwKICAgICAgICAgIGRhdGE6IGJhc2U2NCwKICAgICAgICB9LAogICAgICB9OwogICAgICBwZXJjZW50LnRleHRDb250ZW50ID0KICAgICAgICAgIGAke01hdGgucm91bmQoKHBvc2l0aW9uIC8gZmlsZURhdGEuYnl0ZUxlbmd0aCkgKiAxMDApfSUgZG9uZWA7CiAgICB9CiAgfQoKICAvLyBBbGwgZG9uZS4KICB5aWVsZCB7CiAgICByZXNwb25zZTogewogICAgICBhY3Rpb246ICdjb21wbGV0ZScsCiAgICB9CiAgfTsKfQoKc2NvcGUuZ29vZ2xlID0gc2NvcGUuZ29vZ2xlIHx8IHt9OwpzY29wZS5nb29nbGUuY29sYWIgPSBzY29wZS5nb29nbGUuY29sYWIgfHwge307CnNjb3BlLmdvb2dsZS5jb2xhYi5fZmlsZXMgPSB7CiAgX3VwbG9hZEZpbGVzLAogIF91cGxvYWRGaWxlc0NvbnRpbnVlLAp9Owp9KShzZWxmKTsK",
              "ok": true,
              "headers": [
                [
                  "content-type",
                  "application/javascript"
                ]
              ],
              "status": 200,
              "status_text": "OK"
            }
          },
          "base_uri": "https://localhost:8080/",
          "height": 75
        },
        "id": "hmSLln6L3Z-_",
        "outputId": "527008f4-734f-4d74-9c0d-b67176e12c0d"
      },
      "source": [
        "from google.colab import files\n",
        "uploaded = files.upload()"
      ],
      "execution_count": null,
      "outputs": [
        {
          "output_type": "display_data",
          "data": {
            "text/html": [
              "\n",
              "     <input type=\"file\" id=\"files-26c76e75-af3e-4f30-b3b1-01a0b42ff3ce\" name=\"files[]\" multiple disabled\n",
              "        style=\"border:none\" />\n",
              "     <output id=\"result-26c76e75-af3e-4f30-b3b1-01a0b42ff3ce\">\n",
              "      Upload widget is only available when the cell has been executed in the\n",
              "      current browser session. Please rerun this cell to enable.\n",
              "      </output>\n",
              "      <script src=\"/nbextensions/google.colab/files.js\"></script> "
            ],
            "text/plain": [
              "<IPython.core.display.HTML object>"
            ]
          },
          "metadata": {
            "tags": []
          }
        },
        {
          "output_type": "stream",
          "text": [
            "Saving tahini binary sentiment.csv to tahini binary sentiment.csv\n"
          ],
          "name": "stdout"
        }
      ]
    },
    {
      "cell_type": "code",
      "metadata": {
        "colab": {
          "base_uri": "https://localhost:8080/",
          "height": 424
        },
        "id": "k_x6ezzPg8Pk",
        "outputId": "00d80c1b-01d9-48b3-d3b8-9b84d8ef1196"
      },
      "source": [
        "tahini = pd.read_csv(\"tahini binary sentiment.csv\")\n",
        "tahini"
      ],
      "execution_count": null,
      "outputs": [
        {
          "output_type": "execute_result",
          "data": {
            "text/html": [
              "<div>\n",
              "<style scoped>\n",
              "    .dataframe tbody tr th:only-of-type {\n",
              "        vertical-align: middle;\n",
              "    }\n",
              "\n",
              "    .dataframe tbody tr th {\n",
              "        vertical-align: top;\n",
              "    }\n",
              "\n",
              "    .dataframe thead th {\n",
              "        text-align: right;\n",
              "    }\n",
              "</style>\n",
              "<table border=\"1\" class=\"dataframe\">\n",
              "  <thead>\n",
              "    <tr style=\"text-align: right;\">\n",
              "      <th></th>\n",
              "      <th>user</th>\n",
              "      <th>comment</th>\n",
              "      <th>sentiment</th>\n",
              "    </tr>\n",
              "  </thead>\n",
              "  <tbody>\n",
              "    <tr>\n",
              "      <th>0</th>\n",
              "      <td>lmk</td>\n",
              "      <td>Yum.  These took much longer than 16 minutes t...</td>\n",
              "      <td>1</td>\n",
              "    </tr>\n",
              "    <tr>\n",
              "      <th>1</th>\n",
              "      <td>Sonya</td>\n",
              "      <td>If you follow the recipe as written the tahini...</td>\n",
              "      <td>1</td>\n",
              "    </tr>\n",
              "    <tr>\n",
              "      <th>2</th>\n",
              "      <td>KV</td>\n",
              "      <td>I have made these cookies 5 times. My advice i...</td>\n",
              "      <td>1</td>\n",
              "    </tr>\n",
              "    <tr>\n",
              "      <th>3</th>\n",
              "      <td>MaryN</td>\n",
              "      <td>I liked this- the tahini is slightly more subt...</td>\n",
              "      <td>1</td>\n",
              "    </tr>\n",
              "    <tr>\n",
              "      <th>4</th>\n",
              "      <td>Maggie B</td>\n",
              "      <td>Used Shaila M's tweaks. Baked first tray strai...</td>\n",
              "      <td>1</td>\n",
              "    </tr>\n",
              "    <tr>\n",
              "      <th>...</th>\n",
              "      <td>...</td>\n",
              "      <td>...</td>\n",
              "      <td>...</td>\n",
              "    </tr>\n",
              "    <tr>\n",
              "      <th>350</th>\n",
              "      <td>Stephanie Bellows</td>\n",
              "      <td>I hate to ask - but the calories for this wond...</td>\n",
              "      <td>0</td>\n",
              "    </tr>\n",
              "    <tr>\n",
              "      <th>351</th>\n",
              "      <td>Amanda</td>\n",
              "      <td>Can you make these with a small cookie scoop a...</td>\n",
              "      <td>0</td>\n",
              "    </tr>\n",
              "    <tr>\n",
              "      <th>352</th>\n",
              "      <td>Audrey</td>\n",
              "      <td>Can something be substituted for the Tahini? S...</td>\n",
              "      <td>0</td>\n",
              "    </tr>\n",
              "    <tr>\n",
              "      <th>353</th>\n",
              "      <td>C PAULL</td>\n",
              "      <td>RE: TAHINI Sauce or paste???</td>\n",
              "      <td>0</td>\n",
              "    </tr>\n",
              "    <tr>\n",
              "      <th>354</th>\n",
              "      <td>naomi</td>\n",
              "      <td>Recipe ingredients refer to a \"note\" regarding...</td>\n",
              "      <td>0</td>\n",
              "    </tr>\n",
              "  </tbody>\n",
              "</table>\n",
              "<p>355 rows × 3 columns</p>\n",
              "</div>"
            ],
            "text/plain": [
              "                  user  ... sentiment\n",
              "0                  lmk  ...         1\n",
              "1                Sonya  ...         1\n",
              "2                   KV  ...         1\n",
              "3                MaryN  ...         1\n",
              "4             Maggie B  ...         1\n",
              "..                 ...  ...       ...\n",
              "350  Stephanie Bellows  ...         0\n",
              "351             Amanda  ...         0\n",
              "352             Audrey  ...         0\n",
              "353            C PAULL  ...         0\n",
              "354              naomi  ...         0\n",
              "\n",
              "[355 rows x 3 columns]"
            ]
          },
          "metadata": {
            "tags": []
          },
          "execution_count": 26
        }
      ]
    },
    {
      "cell_type": "code",
      "metadata": {
        "id": "s65CmRNmhmpc"
      },
      "source": [
        "X = tahini[\"comment\"]\n",
        "y = tahini[\"sentiment\"]"
      ],
      "execution_count": null,
      "outputs": []
    },
    {
      "cell_type": "code",
      "metadata": {
        "id": "sQS9SYpaGVnb"
      },
      "source": [
        "## we want to import our models\n",
        "\n",
        "from keras import models\n",
        "from keras import layers\n",
        "from keras import optimizers\n",
        "from keras import losses\n",
        "from keras import metrics"
      ],
      "execution_count": null,
      "outputs": []
    },
    {
      "cell_type": "code",
      "metadata": {
        "id": "piYCuqFxQTLv"
      },
      "source": [
        "## also import this for checking our accuracy/auc later\n",
        "\n",
        "from sklearn.metrics import accuracy_score\n",
        "from sklearn.metrics import roc_auc_score"
      ],
      "execution_count": null,
      "outputs": []
    },
    {
      "cell_type": "code",
      "metadata": {
        "id": "Fhf9zD8_NZVX"
      },
      "source": [
        "## we want to convert each individual comment into a matrix\n",
        "## where the rows are word vectors for each word in the comment\n",
        "## credit to Anila for developing this code chunk!\n",
        "\n",
        "def comment_to_matrix(comment, maxlen = maxlen, model = model):\n",
        "  #takes in a comment as a string and outputs a matrix whose rows\n",
        "  #are word vectors for each word in the comment\n",
        "  #I know that my longest comment is length 102 words so I'll pad to 110\n",
        "  #I know that my word vectors are length 100\n",
        "  #so we'll make the matrix (110,100)\n",
        "    comment_matrix = np.zeros((110, 100))\n",
        "    \n",
        "    #Split the input comment into words.\n",
        "    comm_len = len(comment.split(' '))\n",
        "    shift = 0\n",
        "    comm = comment.split(' ')\n",
        "    \n",
        "    for i in range(comm_len):\n",
        "       if comm[::-1][i] in model.wv.index_to_key:\n",
        "         comment_matrix[maxlen - (i+1) + shift,:] = model.wv[comm[::-1][i]]\n",
        "       else:\n",
        "         shift += 1\n",
        "    \n",
        "    return comment_matrix"
      ],
      "execution_count": null,
      "outputs": []
    },
    {
      "cell_type": "code",
      "metadata": {
        "colab": {
          "base_uri": "https://localhost:8080/"
        },
        "id": "l45fpk3hNqcD",
        "outputId": "07a39e73-dba2-4da2-d896-e4261f8712d8"
      },
      "source": [
        "np.shape(comment_to_matrix(tahini.comment[1]))\n",
        "\n",
        "## each comment is a (110,100 matrix)"
      ],
      "execution_count": null,
      "outputs": [
        {
          "output_type": "execute_result",
          "data": {
            "text/plain": [
              "(110, 100)"
            ]
          },
          "metadata": {
            "tags": []
          },
          "execution_count": 57
        }
      ]
    },
    {
      "cell_type": "code",
      "metadata": {
        "colab": {
          "base_uri": "https://localhost:8080/"
        },
        "id": "UMH2xlnjUzuG",
        "outputId": "09e5d109-28fa-4eeb-8045-41d90aaebab8"
      },
      "source": [
        "X_wv = np.zeros((355,110,100))\n",
        "np.shape(X_wv[0])"
      ],
      "execution_count": null,
      "outputs": [
        {
          "output_type": "execute_result",
          "data": {
            "text/plain": [
              "(110, 100)"
            ]
          },
          "metadata": {
            "tags": []
          },
          "execution_count": 74
        }
      ]
    },
    {
      "cell_type": "code",
      "metadata": {
        "id": "A6scEcXTQ7kj"
      },
      "source": [
        "for i in range(0,354):\n",
        "  X_wv[i]=comment_to_matrix(tahini.comment[i])\n",
        "\n",
        "## just created a new X, X_wv\n",
        "## which is a giant matrix with shape (355, 110, 100)"
      ],
      "execution_count": null,
      "outputs": []
    },
    {
      "cell_type": "code",
      "metadata": {
        "id": "_F9QXgFDVwGy"
      },
      "source": [
        "## implement a train test split\n",
        "\n",
        "from sklearn.model_selection import train_test_split\n",
        "\n",
        "X_wv_train,X_wv_test,y_train,y_test = train_test_split(X_wv, y,\n",
        "                                                test_size=.2,\n",
        "                                                shuffle=True,\n",
        "                                                random_state=440)"
      ],
      "execution_count": null,
      "outputs": []
    },
    {
      "cell_type": "code",
      "metadata": {
        "id": "_zd7syxfV843"
      },
      "source": [
        "## now we start to build the RNN model\n",
        "\n",
        "wvrnnmodel = models.Sequential()"
      ],
      "execution_count": null,
      "outputs": []
    },
    {
      "cell_type": "code",
      "metadata": {
        "id": "9aXcjc7IWLXi"
      },
      "source": [
        "wvrnnmodel.add(layers.SimpleRNN(50, return_sequences=False))"
      ],
      "execution_count": null,
      "outputs": []
    },
    {
      "cell_type": "code",
      "metadata": {
        "id": "W_NSwHVGWRG7"
      },
      "source": [
        "wvrnnmodel.add(layers.Dense(1, activation='sigmoid'))"
      ],
      "execution_count": null,
      "outputs": []
    },
    {
      "cell_type": "code",
      "metadata": {
        "id": "N_147lWkWTWI"
      },
      "source": [
        "wvrnnmodel.compile(optimizer='rmsprop',\n",
        "                 loss='binary_crossentropy',\n",
        "                 metrics=['accuracy'])"
      ],
      "execution_count": null,
      "outputs": []
    },
    {
      "cell_type": "code",
      "metadata": {
        "colab": {
          "base_uri": "https://localhost:8080/"
        },
        "id": "5tBb6FvuWYjZ",
        "outputId": "5aabe912-e8e7-443b-f805-f2f807c147a9"
      },
      "source": [
        "wvhistory = wvrnnmodel.fit(X_wv_train, y_train,\n",
        "                    epochs = 3,\n",
        "                    batch_size=128,\n",
        "                    validation_data=(X_wv_test,y_test))\n",
        "\n",
        "## at twenty epochs, the best seemed to be epoch 3,\n",
        "## so I leave it at 3 epochs"
      ],
      "execution_count": null,
      "outputs": [
        {
          "output_type": "stream",
          "text": [
            "Epoch 1/3\n",
            "3/3 [==============================] - 3s 350ms/step - loss: 0.6349 - accuracy: 0.6886 - val_loss: 0.6285 - val_accuracy: 0.6901\n",
            "Epoch 2/3\n",
            "3/3 [==============================] - 0s 52ms/step - loss: 0.6201 - accuracy: 0.6736 - val_loss: 0.5930 - val_accuracy: 0.7183\n",
            "Epoch 3/3\n",
            "3/3 [==============================] - 0s 55ms/step - loss: 0.5901 - accuracy: 0.7045 - val_loss: 0.6163 - val_accuracy: 0.7042\n"
          ],
          "name": "stdout"
        }
      ]
    },
    {
      "cell_type": "code",
      "metadata": {
        "id": "ad4nSYu2WaFS"
      },
      "source": [
        "preds = wvrnnmodel.predict(X_wv_test)"
      ],
      "execution_count": null,
      "outputs": []
    },
    {
      "cell_type": "code",
      "metadata": {
        "colab": {
          "base_uri": "https://localhost:8080/"
        },
        "id": "lHn9FSbZWao7",
        "outputId": "f8876bb3-8739-42c1-dc93-7a78fe58d2c4"
      },
      "source": [
        "y_preds = (preds > 0.5)\n",
        "tahini_matrix = confusion_matrix(y_test, y_preds)\n",
        "tahini_matrix"
      ],
      "execution_count": null,
      "outputs": [
        {
          "output_type": "execute_result",
          "data": {
            "text/plain": [
              "array([[ 0, 21],\n",
              "       [ 0, 50]])"
            ]
          },
          "metadata": {
            "tags": []
          },
          "execution_count": 118
        }
      ]
    },
    {
      "cell_type": "code",
      "metadata": {
        "colab": {
          "base_uri": "https://localhost:8080/"
        },
        "id": "VUgSnxeYWb7u",
        "outputId": "d8ae0d43-bd9a-47de-8687-317791b63d28"
      },
      "source": [
        "accuracy_score(y_test, y_preds), roc_auc_score(y_test, y_preds)\n",
        "\n",
        "# lower accuracy (0.56) but slightly higher auc (0.64)!"
      ],
      "execution_count": null,
      "outputs": [
        {
          "output_type": "execute_result",
          "data": {
            "text/plain": [
              "(0.704225352112676, 0.5)"
            ]
          },
          "metadata": {
            "tags": []
          },
          "execution_count": 117
        }
      ]
    }
  ]
}
